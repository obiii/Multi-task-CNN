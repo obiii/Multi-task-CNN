{
 "cells": [
  {
   "cell_type": "code",
   "execution_count": 1,
   "metadata": {},
   "outputs": [],
   "source": [
    "import pandas as pd\n",
    "import os"
   ]
  },
  {
   "cell_type": "code",
   "execution_count": 2,
   "metadata": {},
   "outputs": [],
   "source": [
    "dumps = '../Data/Collections/Data_2013-02-35/dumps/'"
   ]
  },
  {
   "cell_type": "code",
   "execution_count": 3,
   "metadata": {},
   "outputs": [
    {
     "data": {
      "text/plain": [
       "'../Data/Collections/Data_2013-02-35/dumps/'"
      ]
     },
     "execution_count": 3,
     "metadata": {},
     "output_type": "execute_result"
    }
   ],
   "source": [
    "dumps"
   ]
  },
  {
   "cell_type": "code",
   "execution_count": 4,
   "metadata": {},
   "outputs": [
    {
     "data": {
      "text/plain": [
       "['dump1.CSV',\n",
       " 'dump10.CSV',\n",
       " 'dump11.CSV',\n",
       " 'dump12.CSV',\n",
       " 'dump13.CSV',\n",
       " 'dump14.CSV',\n",
       " 'dump15.CSV',\n",
       " 'dump16.CSV',\n",
       " 'dump17.CSV',\n",
       " 'dump18.CSV',\n",
       " 'dump19.CSV',\n",
       " 'dump2.CSV',\n",
       " 'dump20.CSV',\n",
       " 'dump21.CSV',\n",
       " 'dump22.CSV',\n",
       " 'dump23.CSV',\n",
       " 'dump24.CSV',\n",
       " 'dump25.CSV',\n",
       " 'dump26.CSV',\n",
       " 'dump27.CSV',\n",
       " 'dump28.CSV',\n",
       " 'dump29.CSV',\n",
       " 'dump3.CSV',\n",
       " 'dump30.CSV',\n",
       " 'dump31.CSV',\n",
       " 'dump32.CSV',\n",
       " 'dump33.CSV',\n",
       " 'dump34.CSV',\n",
       " 'dump35.CSV',\n",
       " 'dump36.CSV',\n",
       " 'dump37.CSV',\n",
       " 'dump38.CSV',\n",
       " 'dump39.CSV',\n",
       " 'dump4.CSV',\n",
       " 'dump40.CSV',\n",
       " 'dump41.CSV',\n",
       " 'dump42.CSV',\n",
       " 'dump43.CSV',\n",
       " 'dump44.CSV',\n",
       " 'dump45.CSV',\n",
       " 'dump46.CSV',\n",
       " 'dump47.CSV',\n",
       " 'dump48.CSV',\n",
       " 'dump49.CSV',\n",
       " 'dump5.CSV',\n",
       " 'dump50.CSV',\n",
       " 'dump51.CSV',\n",
       " 'dump52.CSV',\n",
       " 'dump53.CSV',\n",
       " 'dump54.CSV',\n",
       " 'dump6.CSV',\n",
       " 'dump7.CSV',\n",
       " 'dump8.CSV',\n",
       " 'dump9.CSV']"
      ]
     },
     "execution_count": 4,
     "metadata": {},
     "output_type": "execute_result"
    }
   ],
   "source": [
    "csvs = [f for f in os.listdir(dumps) if f.endswith('.CSV')]\n",
    "csvs"
   ]
  },
  {
   "cell_type": "code",
   "execution_count": 11,
   "metadata": {},
   "outputs": [
    {
     "name": "stdout",
     "output_type": "stream",
     "text": [
      "Working on file dump1.CSV ----------------------- (65535, 27)\n",
      "Working on file dump10.CSV ----------------------- (7307, 27)\n",
      "Working on file dump11.CSV ----------------------- (1854, 27)\n",
      "Working on file dump12.CSV ----------------------- (4175, 27)\n",
      "Working on file dump13.CSV ----------------------- (6545, 27)\n",
      "Working on file dump14.CSV ----------------------- (3656, 27)\n",
      "Working on file dump15.CSV ----------------------- (6731, 27)\n",
      "Working on file dump16.CSV ----------------------- (8671, 27)\n",
      "Working on file dump17.CSV ----------------------- (6899, 27)\n",
      "Working on file dump18.CSV ----------------------- (14776, 27)\n",
      "Working on file dump19.CSV ----------------------- (7651, 27)\n"
     ]
    },
    {
     "name": "stderr",
     "output_type": "stream",
     "text": [
      "C:\\Users\\Z0045JZP\\AppData\\Local\\Continuum\\anaconda3\\lib\\site-packages\\IPython\\core\\interactiveshell.py:3058: DtypeWarning: Columns (2,3,4,5,6,7,8,10,11,12,13,14,15,16,17,18,19,20,21,22,23,24,25,26,27,28,29,30,31,32) have mixed types. Specify dtype option on import or set low_memory=False.\n",
      "  interactivity=interactivity, compiler=compiler, result=result)\n"
     ]
    },
    {
     "name": "stdout",
     "output_type": "stream",
     "text": [
      "Working on file dump2.CSV ----------------------- (20935, 27)\n",
      "Working on file dump20.CSV ----------------------- (4878, 27)\n",
      "Working on file dump21.CSV ----------------------- (10442, 27)\n",
      "Working on file dump22.CSV ----------------------- (7620, 27)\n",
      "Working on file dump23.CSV ----------------------- (5463, 27)\n",
      "Working on file dump24.CSV ----------------------- (5124, 27)\n",
      "Working on file dump25.CSV ----------------------- (7036, 27)\n",
      "Working on file dump26.CSV ----------------------- (6731, 27)\n",
      "Working on file dump27.CSV ----------------------- (8671, 27)\n",
      "Working on file dump28.CSV ----------------------- (6899, 27)\n",
      "Working on file dump29.CSV ----------------------- (14776, 27)\n",
      "Working on file dump3.CSV ----------------------- (6252, 27)\n",
      "Working on file dump30.CSV ----------------------- (7651, 27)\n",
      "Working on file dump31.CSV ----------------------- (4878, 27)\n",
      "Working on file dump32.CSV ----------------------- (10442, 27)\n",
      "Working on file dump33.CSV ----------------------- (7620, 27)\n",
      "Working on file dump34.CSV ----------------------- (5463, 27)\n",
      "Working on file dump35.CSV ----------------------- (5124, 27)\n",
      "Working on file dump36.CSV ----------------------- (7036, 27)\n",
      "Working on file dump37.CSV ----------------------- (5282, 27)\n",
      "Working on file dump38.CSV ----------------------- (4389, 27)\n",
      "Working on file dump39.CSV ----------------------- (5422, 27)\n",
      "Working on file dump4.CSV ----------------------- (6861, 27)\n",
      "Working on file dump40.CSV ----------------------- (7711, 27)\n",
      "Working on file dump41.CSV ----------------------- (65535, 27)\n",
      "Working on file dump42.CSV ----------------------- (20935, 27)\n",
      "Working on file dump43.CSV ----------------------- (6252, 27)\n",
      "Working on file dump44.CSV ----------------------- (6861, 27)\n",
      "Working on file dump45.CSV ----------------------- (4042, 27)\n",
      "Working on file dump46.CSV ----------------------- (20463, 27)\n",
      "Working on file dump47.CSV ----------------------- (4301, 27)\n",
      "Working on file dump48.CSV ----------------------- (6603, 27)\n",
      "Working on file dump49.CSV ----------------------- (309, 27)\n",
      "Working on file dump5.CSV ----------------------- (4042, 27)\n",
      "Working on file dump50.CSV ----------------------- (7307, 27)\n",
      "Working on file dump51.CSV ----------------------- (1854, 27)\n",
      "Working on file dump52.CSV ----------------------- (4175, 27)\n",
      "Working on file dump53.CSV ----------------------- (6545, 27)\n",
      "Working on file dump54.CSV ----------------------- (3656, 27)\n",
      "Working on file dump6.CSV ----------------------- (20463, 27)\n",
      "Working on file dump7.CSV ----------------------- (4301, 27)\n",
      "Working on file dump8.CSV ----------------------- (6603, 27)\n",
      "Working on file dump9.CSV ----------------------- (309, 27)\n"
     ]
    }
   ],
   "source": [
    "cols = ['Date','Time','MBM10_CP026','MBM10_CM027','MBM10_CT028','MBP10_CF002','MBP10_CF003','MBP10_CF004','ProcessAir','equivalentRatio','AFR','Tflame','Uref','Measpoint','PFR','CFR','Mtotalfuel','dPAverage','NOx15ppm','O2PercVol','H2Mol','N2Mol','NGMol','H2Weight','N2Weight','NGWeight','EtylenFlow']\n",
    "out = []\n",
    "for csv in csvs:\n",
    "    import pdb\n",
    "    \n",
    "    filename = '../Data/Collections/Data_2013-02-35/dumps/'+csv\n",
    "\n",
    "    \n",
    "    d1 = pd.read_csv(filename,encoding = \"ISO-8859-1\")\n",
    "    d = d1.iloc[:,:27].copy()\n",
    "    d.columns = cols\n",
    "    print('Working on file {f} ----------------------- {sh}'.format(f=csv,sh=d.shape))\n",
    "    out.append(d)\n",
    "    \n",
    "outd = pd.concat(out)\n",
    "\n",
    "outd.to_csv('../Data/Collections/Data_2013-02-35/Dump/dataDump.csv')"
   ]
  },
  {
   "cell_type": "code",
   "execution_count": null,
   "metadata": {},
   "outputs": [],
   "source": [
    "d1 = pd.read('../Data/Collections/Data_2013-02-20/Dump/dumpData.CSV')\n",
    "d1.columns = cols\n",
    "d1.shape"
   ]
  },
  {
   "cell_type": "code",
   "execution_count": null,
   "metadata": {},
   "outputs": [],
   "source": [
    "d1 = pd.read('../Data/Collections/Data_2013-02-20/Dump/dumpData.CSV')\n",
    "d1.columns = cols\n",
    "d1.shape"
   ]
  },
  {
   "cell_type": "code",
   "execution_count": null,
   "metadata": {},
   "outputs": [],
   "source": [
    "d2 = pd.read('../Data/Collections/Data_2013-02-22/Dump/dumpData.CSV')\n",
    "d2.columns = cols\n",
    "d1.shape"
   ]
  }
 ],
 "metadata": {
  "kernelspec": {
   "display_name": "Python 3",
   "language": "python",
   "name": "python3"
  },
  "language_info": {
   "codemirror_mode": {
    "name": "ipython",
    "version": 3
   },
   "file_extension": ".py",
   "mimetype": "text/x-python",
   "name": "python",
   "nbconvert_exporter": "python",
   "pygments_lexer": "ipython3",
   "version": "3.7.4"
  }
 },
 "nbformat": 4,
 "nbformat_minor": 2
}
