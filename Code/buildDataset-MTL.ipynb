{
 "cells": [
  {
   "cell_type": "code",
   "execution_count": 16,
   "metadata": {},
   "outputs": [],
   "source": [
    "import pandas as pd\n",
    "import os\n",
    "import shutil"
   ]
  },
  {
   "cell_type": "code",
   "execution_count": 17,
   "metadata": {},
   "outputs": [],
   "source": [
    "imageDir = '../Images/'\n",
    "csvDir = '../CSV'\n",
    "basePath = '../MTLData/'\n",
    "splitCsv = 'csv'"
   ]
  },
  {
   "cell_type": "code",
   "execution_count": 18,
   "metadata": {},
   "outputs": [],
   "source": [
    "def dataLoader(imageDir,csvFile,sampleRatio=0.60):\n",
    "    \n",
    "    trainSplitFactor = sampleRatio\n",
    "    testSplitFactor = valdSplitFactor = (1-sampleRatio)/2\n",
    "    \n",
    "    train = pd.DataFrame()\n",
    "    test = pd.DataFrame()\n",
    "    vald = pd.DataFrame()\n",
    "    data = pd.DataFrame()\n",
    "    \n",
    "    csv = os.path.join(csvDir,csvFile)\n",
    "    if os.path.isfile(csv) == False:\n",
    "        exit(1)\n",
    "    if os.path.isdir(imageDir) == False:\n",
    "        exit(1)\n",
    "    \n",
    "    csvData = pd.read_csv(csv)\n",
    "    dataShuffled = csvData.sample(frac=1).reset_index(drop=True) #Shuffle data\n",
    "\n",
    "    print('\\n\\nProcessing files')\n",
    "    total = dataShuffled.shape[0]\n",
    "    trainLen = int(total*trainSplitFactor)\n",
    "    valdLen = int(total*valdSplitFactor)\n",
    "    testLen = int(total*testSplitFactor)\n",
    "\n",
    "    print(\"\\tTotal: {ttl}, Train: {tr}, Test: {te}, Vald: {vld}\".format(ttl=total,tr=trainLen,te=testLen,vld = valdLen))\n",
    "    trainData = dataShuffled[0:trainLen]\n",
    "    valdData = dataShuffled[trainLen+1: (trainLen+valdLen)]\n",
    "    testData = dataShuffled[(trainLen+valdLen)+1:(trainLen+valdLen+testLen)]\n",
    "\n",
    "    imagesTrain = trainData['Image'].tolist()\n",
    "    imagesVald = valdData['Image'].tolist()\n",
    "    imagesTest = testData['Image'].tolist()\n",
    "    \n",
    "    splits = ['train','test','vald']\n",
    "    cpCount = 0\n",
    "    for sp in splits:\n",
    "        if sp == 'train':\n",
    "            images = imagesTrain\n",
    "            tLen = len(imagesTrain)\n",
    "            train = trainData\n",
    "            train['dir'] = 'train'\n",
    "            data = pd.concat([data,train])\n",
    "        elif sp == 'test':\n",
    "            images = imagesTest\n",
    "            test = testData\n",
    "            test['dir'] = 'test'\n",
    "            data = pd.concat([data,test])\n",
    "            tLen = len(imagesTest)\n",
    "        elif sp == 'vald':\n",
    "            images = imagesVald\n",
    "            vald = valdData\n",
    "            vald['dir'] = 'vald'\n",
    "            data = pd.concat([data,vald])\n",
    "            tLen = len(imagesVald)\n",
    "            \n",
    "        for image in images:\n",
    "            copyFrom = os.path.join(imageDir,image+'.jpg')\n",
    "            copyTo = os.path.join(basePath,sp+'/',image+'.jpg')\n",
    "\n",
    "            nestedDir = os.path.join(basePath,sp+'/')\n",
    "            if not os.path.exists(nestedDir):\n",
    "                os.makedirs(nestedDir)\n",
    "\n",
    "            shutil.copy(copyFrom, copyTo)\n",
    "            print('\\t\\tCopied {cp} of {ttl}'.format(cp=cpCount,ttl=tLen),end=\"\\r\")\n",
    "            cpCount += 1\n",
    "\n",
    "    CSVPath = os.path.join(basePath,splitCsv)\n",
    "    if not os.path.exists(CSVPath+'/'):\n",
    "        os.makedirs(CSVPath+'/')\n",
    "    data.to_csv(os.path.join(CSVPath+'/','data.csv'))\n",
    "    print('Data Saved to: ',os.path.join(CSVPath+'/','data.csv'))"
   ]
  },
  {
   "cell_type": "code",
   "execution_count": 19,
   "metadata": {},
   "outputs": [
    {
     "name": "stdout",
     "output_type": "stream",
     "text": [
      "\n",
      "\n",
      "Processing files\n",
      "\tTotal: 10699, Train: 7489, Test: 1604, Vald: 1604\n",
      "\t\tCopied 0 of 7489\r",
      "\t\tCopied 1 of 7489\r",
      "\t\tCopied 2 of 7489\r",
      "\t\tCopied 3 of 7489\r",
      "\t\tCopied 4 of 7489\r",
      "\t\tCopied 5 of 7489\r",
      "\t\tCopied 6 of 7489\r",
      "\t\tCopied 7 of 7489\r",
      "\t\tCopied 8 of 7489\r",
      "\t\tCopied 9 of 7489\r",
      "\t\tCopied 10 of 7489\r",
      "\t\tCopied 11 of 7489\r",
      "\t\tCopied 12 of 7489\r",
      "\t\tCopied 13 of 7489\r",
      "\t\tCopied 14 of 7489\r",
      "\t\tCopied 15 of 7489\r",
      "\t\tCopied 16 of 7489\r",
      "\t\tCopied 17 of 7489\r",
      "\t\tCopied 18 of 7489\r",
      "\t\tCopied 19 of 7489\r",
      "\t\tCopied 20 of 7489\r",
      "\t\tCopied 21 of 7489\r"
     ]
    },
    {
     "name": "stderr",
     "output_type": "stream",
     "text": [
      "C:\\Users\\z0045jzp\\AppData\\Local\\Continuum\\anaconda3\\lib\\site-packages\\ipykernel_launcher.py:42: SettingWithCopyWarning: \n",
      "A value is trying to be set on a copy of a slice from a DataFrame.\n",
      "Try using .loc[row_indexer,col_indexer] = value instead\n",
      "\n",
      "See the caveats in the documentation: http://pandas.pydata.org/pandas-docs/stable/user_guide/indexing.html#returning-a-view-versus-a-copy\n"
     ]
    },
    {
     "name": "stdout",
     "output_type": "stream",
     "text": [
      "\t\tCopied 7513 of 1603"
     ]
    },
    {
     "name": "stderr",
     "output_type": "stream",
     "text": [
      "C:\\Users\\z0045jzp\\AppData\\Local\\Continuum\\anaconda3\\lib\\site-packages\\ipykernel_launcher.py:47: SettingWithCopyWarning: \n",
      "A value is trying to be set on a copy of a slice from a DataFrame.\n",
      "Try using .loc[row_indexer,col_indexer] = value instead\n",
      "\n",
      "See the caveats in the documentation: http://pandas.pydata.org/pandas-docs/stable/user_guide/indexing.html#returning-a-view-versus-a-copy\n"
     ]
    },
    {
     "name": "stdout",
     "output_type": "stream",
     "text": [
      "\t\tCopied 9091 of 1603\r"
     ]
    },
    {
     "name": "stderr",
     "output_type": "stream",
     "text": [
      "C:\\Users\\z0045jzp\\AppData\\Local\\Continuum\\anaconda3\\lib\\site-packages\\ipykernel_launcher.py:53: SettingWithCopyWarning: \n",
      "A value is trying to be set on a copy of a slice from a DataFrame.\n",
      "Try using .loc[row_indexer,col_indexer] = value instead\n",
      "\n",
      "See the caveats in the documentation: http://pandas.pydata.org/pandas-docs/stable/user_guide/indexing.html#returning-a-view-versus-a-copy\n"
     ]
    },
    {
     "name": "stdout",
     "output_type": "stream",
     "text": [
      "Data Saved to:  ../MTLData/csv/data.csv\n"
     ]
    }
   ],
   "source": [
    "dataLoader(imageDir,'cleanedData.csv',sampleRatio=0.70)"
   ]
  },
  {
   "cell_type": "code",
   "execution_count": 20,
   "metadata": {},
   "outputs": [],
   "source": [
    "d = pd.read_csv('../MTLData/csv/data.csv')"
   ]
  },
  {
   "cell_type": "code",
   "execution_count": 21,
   "metadata": {},
   "outputs": [
    {
     "name": "stdout",
     "output_type": "stream",
     "text": [
      "   PFRType  FuelType    NOx  count\n",
      "0        0  20H280NG    0-5    864\n",
      "1        0  20H280NG  06-10    176\n",
      "2        0   Ethlyne    0-5   1626\n",
      "3        0        F1    0-5    244\n",
      "4        0        F1  06-10     95\n",
      "5        0        F2    0-5    420\n",
      "6        0        F2  06-10    197\n",
      "7        0        NG    0-5   2151\n",
      "8      1-3  20H280NG    0-5     77\n",
      "9      1-3   Ethlyne    0-5     96\n",
      "10     1-3        F2    0-5     71\n",
      "11     1-3        F2  06-10     78\n",
      "12     1-3        NG    0-5    196\n",
      "13   10-12  20H280NG    0-5     34\n",
      "14   10-12  20H280NG  06-10    190\n",
      "15   10-12   Ethlyne  06-10    122\n",
      "16   10-12        F1  06-10     34\n",
      "17   10-12        F2  06-10     75\n",
      "18   10-12        NG    0-5    555\n",
      "19   10-12        NG  06-10     56\n",
      "20   13-15  20H280NG  06-10     79\n",
      "21   13-15        F2  11-15     53\n",
      "22   13-15        NG    0-5    109\n",
      "23   13-15        NG  06-10     63\n",
      "24   20-25  20H280NG  06-10     30\n",
      "25   20-25  20H280NG  11-15     35\n",
      "26   20-25        F1  06-10      2\n",
      "27   20-25        NG    0-5     74\n",
      "28   20-25        NG  06-10    289\n",
      "29   30-40  20H280NG  11-15     67\n",
      "30   30-40  20H280NG  16-20     37\n",
      "31   30-40  20H280NG  21-25     77\n",
      "32   30-40        NG  06-10     63\n",
      "33   30-40        NG  11-15     79\n",
      "34   30-40        NG  16-20     99\n",
      "35   30-40        NG  21-25     49\n",
      "36     4-5  20H280NG    0-5    199\n",
      "37     4-5        F1    0-5     40\n",
      "38     4-5        F2    0-5     38\n",
      "39     4-5        F2  06-10     35\n",
      "40     4-5        NG    0-5    368\n",
      "41   41-56  20H280NG  21-25     74\n",
      "42   41-56  20H280NG  26-30     34\n",
      "43   41-56        NG  11-15     18\n",
      "44   41-56        NG  16-20      2\n",
      "45   41-56        NG  21-25     32\n",
      "46     6-9  20H280NG    0-5    348\n",
      "47     6-9   Ethlyne    0-5     47\n",
      "48     6-9   Ethlyne  06-10     39\n",
      "49     6-9        F2  06-10     84\n",
      "50     6-9        NG    0-5    509\n",
      "51     60+        NG  11-15     31\n",
      "52     60+        NG  16-20     44\n",
      "53     60+        NG  26-30     78\n",
      "54     60+        NG    30+    113\n"
     ]
    }
   ],
   "source": [
    "fuel = d.groupby(['PFRType','FuelType','NOx']).size().reset_index().rename(columns={0:'count'})\n",
    "with pd.option_context('display.max_rows', None, 'display.max_columns', None):  # more options can be specified also\n",
    "    print(fuel)"
   ]
  },
  {
   "cell_type": "code",
   "execution_count": 22,
   "metadata": {},
   "outputs": [],
   "source": [
    " \n",
    "indexNames = d[ (d['FuelType'] == 'NG') & (d['NOx'] == '16-20') ].index\n",
    "d.drop(indexNames , inplace=True)\n",
    "\n",
    "indexNames = d[ (d['FuelType'] == 'F1') & (d['NOx'] == '06-10') ].index\n",
    "d.drop(indexNames , inplace=True)"
   ]
  },
  {
   "cell_type": "code",
   "execution_count": 23,
   "metadata": {},
   "outputs": [
    {
     "name": "stdout",
     "output_type": "stream",
     "text": [
      "   PFRType  FuelType    NOx  count\n",
      "0        0  20H280NG    0-5    864\n",
      "1        0  20H280NG  06-10    176\n",
      "2        0   Ethlyne    0-5   1626\n",
      "3        0        F1    0-5    244\n",
      "4        0        F2    0-5    420\n",
      "5        0        F2  06-10    197\n",
      "6        0        NG    0-5   2151\n",
      "7      1-3  20H280NG    0-5     77\n",
      "8      1-3   Ethlyne    0-5     96\n",
      "9      1-3        F2    0-5     71\n",
      "10     1-3        F2  06-10     78\n",
      "11     1-3        NG    0-5    196\n",
      "12   10-12  20H280NG    0-5     34\n",
      "13   10-12  20H280NG  06-10    190\n",
      "14   10-12   Ethlyne  06-10    122\n",
      "15   10-12        F2  06-10     75\n",
      "16   10-12        NG    0-5    555\n",
      "17   10-12        NG  06-10     56\n",
      "18   13-15  20H280NG  06-10     79\n",
      "19   13-15        F2  11-15     53\n",
      "20   13-15        NG    0-5    109\n",
      "21   13-15        NG  06-10     63\n",
      "22   20-25  20H280NG  06-10     30\n",
      "23   20-25  20H280NG  11-15     35\n",
      "24   20-25        NG    0-5     74\n",
      "25   20-25        NG  06-10    289\n",
      "26   30-40  20H280NG  11-15     67\n",
      "27   30-40  20H280NG  16-20     37\n",
      "28   30-40  20H280NG  21-25     77\n",
      "29   30-40        NG  06-10     63\n",
      "30   30-40        NG  11-15     79\n",
      "31   30-40        NG  21-25     49\n",
      "32     4-5  20H280NG    0-5    199\n",
      "33     4-5        F1    0-5     40\n",
      "34     4-5        F2    0-5     38\n",
      "35     4-5        F2  06-10     35\n",
      "36     4-5        NG    0-5    368\n",
      "37   41-56  20H280NG  21-25     74\n",
      "38   41-56  20H280NG  26-30     34\n",
      "39   41-56        NG  11-15     18\n",
      "40   41-56        NG  21-25     32\n",
      "41     6-9  20H280NG    0-5    348\n",
      "42     6-9   Ethlyne    0-5     47\n",
      "43     6-9   Ethlyne  06-10     39\n",
      "44     6-9        F2  06-10     84\n",
      "45     6-9        NG    0-5    509\n",
      "46     60+        NG  11-15     31\n",
      "47     60+        NG  26-30     78\n",
      "48     60+        NG    30+    113\n"
     ]
    }
   ],
   "source": [
    "fuel = d.groupby(['PFRType','FuelType','NOx']).size().reset_index().rename(columns={0:'count'})\n",
    "with pd.option_context('display.max_rows', None, 'display.max_columns', None):  # more options can be specified also\n",
    "    print(fuel)"
   ]
  },
  {
   "cell_type": "code",
   "execution_count": 24,
   "metadata": {},
   "outputs": [],
   "source": [
    "d.to_csv('../MTLData/csv/data.csv')"
   ]
  },
  {
   "cell_type": "code",
   "execution_count": null,
   "metadata": {},
   "outputs": [],
   "source": []
  }
 ],
 "metadata": {
  "kernelspec": {
   "display_name": "Python 3",
   "language": "python",
   "name": "python3"
  },
  "language_info": {
   "codemirror_mode": {
    "name": "ipython",
    "version": 3
   },
   "file_extension": ".py",
   "mimetype": "text/x-python",
   "name": "python",
   "nbconvert_exporter": "python",
   "pygments_lexer": "ipython3",
   "version": "3.7.4"
  }
 },
 "nbformat": 4,
 "nbformat_minor": 2
}
