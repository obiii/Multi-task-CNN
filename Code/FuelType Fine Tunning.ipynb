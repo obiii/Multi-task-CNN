{
 "cells": [
  {
   "cell_type": "code",
   "execution_count": 1,
   "metadata": {},
   "outputs": [
    {
     "name": "stderr",
     "output_type": "stream",
     "text": [
      "Using TensorFlow backend.\n"
     ]
    }
   ],
   "source": [
    "# set the matplotlib backend so figures can be saved in the background\n",
    "import matplotlib\n",
    "matplotlib.use(\"Agg\")\n",
    "# import the necessary packages\n",
    "from keras.preprocessing.image import ImageDataGenerator\n",
    "from keras.applications import VGG16\n",
    "from keras.layers.core import Dropout\n",
    "from keras.layers.core import Flatten\n",
    "from keras.layers.core import Dense\n",
    "from sklearn.metrics import confusion_matrix\n",
    "from keras.layers import Input\n",
    "from keras.models import Model\n",
    "from keras.utils import multi_gpu_model\n",
    "from keras.optimizers import SGD\n",
    "from sklearn.metrics import classification_report\n",
    "from imutils import paths\n",
    "import pandas as pd\n",
    "import matplotlib.pyplot as plt\n",
    "import numpy as np\n",
    "import pickle\n",
    "import os\n",
    "import tensorflow as tf\n",
    "#For injection\n",
    "import keras.backend.tensorflow_backend as tfback"
   ]
  },
  {
   "cell_type": "code",
   "execution_count": 2,
   "metadata": {},
   "outputs": [],
   "source": [
    "os.environ[\"CUDA_VISIBLE_DEVICES\"] = \"0,1\""
   ]
  },
  {
   "cell_type": "code",
   "execution_count": null,
   "metadata": {},
   "outputs": [],
   "source": []
  },
  {
   "cell_type": "code",
   "execution_count": 3,
   "metadata": {},
   "outputs": [],
   "source": [
    "def _get_available_gpus():\n",
    "    \"\"\"Get a list of available gpu devices (formatted as strings).\n",
    "\n",
    "    # Returns\n",
    "        A list of available GPU devices.\n",
    "    \"\"\"\n",
    "    #global _LOCAL_DEVICES\n",
    "    if tfback._LOCAL_DEVICES is None:\n",
    "        devices = tf.config.list_logical_devices()\n",
    "        tfback._LOCAL_DEVICES = [x.name for x in devices]\n",
    "    return [x for x in tfback._LOCAL_DEVICES if 'device:gpu' in x.lower()]"
   ]
  },
  {
   "cell_type": "code",
   "execution_count": 4,
   "metadata": {},
   "outputs": [
    {
     "data": {
      "text/plain": [
       "[LogicalDevice(name='/device:CPU:0', device_type='CPU'),\n",
       " LogicalDevice(name='/device:GPU:0', device_type='GPU'),\n",
       " LogicalDevice(name='/device:GPU:1', device_type='GPU')]"
      ]
     },
     "execution_count": 4,
     "metadata": {},
     "output_type": "execute_result"
    }
   ],
   "source": [
    "tfback._get_available_gpus = _get_available_gpus\n",
    "tfback._get_available_gpus()\n",
    "tf.config.list_logical_devices()"
   ]
  },
  {
   "cell_type": "code",
   "execution_count": 5,
   "metadata": {},
   "outputs": [],
   "source": [
    "trainPath = '../FuelTypeData/train/'\n",
    "testPath = '../FuelTypeData/test/'\n",
    "valPath = '../FuelTypeData/vald'\n",
    "BATCH_SIZE = 128\n",
    "PFR_NUM_CLASS = 10\n",
    "FUEL_TYPE_NUM_CLASS = 5\n",
    "EPOCHS = 100"
   ]
  },
  {
   "cell_type": "code",
   "execution_count": 6,
   "metadata": {},
   "outputs": [],
   "source": [
    "totalTrain = len(list(paths.list_images(trainPath)))\n",
    "totalVal = len(list(paths.list_images(testPath)))\n",
    "totalTest = len(list(paths.list_images(valPath)))"
   ]
  },
  {
   "cell_type": "code",
   "execution_count": 7,
   "metadata": {},
   "outputs": [],
   "source": [
    "def  plot_train_history(history,N,path):\n",
    "    fig, axes = plt.subplots(1, 2, figsize=(20, 5))\n",
    "    axes[0].plot(history.history['loss'], label='PFR Train Loss')\n",
    "    axes[0].plot(history.history['val_loss'], label='PFR Val Loss')\n",
    "    axes[0].set_xlabel('Epochs')\n",
    "    axes[0].legend()\n",
    "    \n",
    "    axes[1].plot(history.history['accuracy'], label='FT Train accuracy')\n",
    "    axes[1].plot(history.history['val_accuracy'], label='FT Val accuracy')\n",
    "    axes[1].set_xlabel('Epochs')\n",
    "    axes[1].legend()\n",
    "    \n",
    "    plt.savefig(path)"
   ]
  },
  {
   "cell_type": "markdown",
   "metadata": {},
   "source": [
    "## Augmentation"
   ]
  },
  {
   "cell_type": "code",
   "execution_count": 8,
   "metadata": {},
   "outputs": [],
   "source": [
    "# initialize the training data augmentation object\n",
    "trainAug = ImageDataGenerator('''\n",
    "    rotation_range=30,\n",
    "    zoom_range=0.15,\n",
    "    width_shift_range=0.2,\n",
    "    height_shift_range=0.2,\n",
    "    shear_range=0.15,\n",
    "    horizontal_flip=True,\n",
    "    fill_mode=\"nearest\"''')\n",
    "# initialize the validation/testing data augmentation object (which\n",
    "# we'll be adding mean subtraction to)\n",
    "valAug = ImageDataGenerator()\n",
    "# define the ImageNet mean subtraction (in RGB order) and set the\n",
    "# the mean subtraction value for each of the data augmentation\n",
    "# objects\n",
    "mean = np.array([123.68, 116.779, 103.939], dtype=\"float32\")\n",
    "trainAug.mean = mean\n",
    "valAug.mean = mean"
   ]
  },
  {
   "cell_type": "markdown",
   "metadata": {},
   "source": [
    "## Generator"
   ]
  },
  {
   "cell_type": "code",
   "execution_count": 9,
   "metadata": {},
   "outputs": [
    {
     "name": "stdout",
     "output_type": "stream",
     "text": [
      "Found 7487 images belonging to 5 classes.\n",
      "Found 1597 images belonging to 5 classes.\n",
      "Found 1597 images belonging to 5 classes.\n"
     ]
    }
   ],
   "source": [
    "# initialize the training generator\n",
    "img_size = 224\n",
    "trainGen = trainAug.flow_from_directory(\n",
    "    trainPath,\n",
    "    class_mode=\"categorical\",\n",
    "    target_size=(img_size, img_size),\n",
    "    color_mode=\"rgb\",\n",
    "    shuffle=False,\n",
    "    batch_size=BATCH_SIZE)\n",
    "# initialize the validation generator\n",
    "valGen = valAug.flow_from_directory(\n",
    "    valPath,\n",
    "    class_mode=\"categorical\",\n",
    "    target_size=(img_size, img_size),\n",
    "    color_mode=\"rgb\",\n",
    "    shuffle=False,\n",
    "    batch_size=BATCH_SIZE)\n",
    "# initialize the testing generator\n",
    "testGen = valAug.flow_from_directory(\n",
    "    testPath,\n",
    "    class_mode=\"categorical\",\n",
    "    target_size=(img_size, img_size),\n",
    "    color_mode=\"rgb\",\n",
    "    shuffle=False,\n",
    "    batch_size=BATCH_SIZE)"
   ]
  },
  {
   "cell_type": "code",
   "execution_count": 10,
   "metadata": {},
   "outputs": [],
   "source": [
    "# load the VGG16 network, ensuring the head FC layer sets are left off\n",
    "baseModel = VGG16(weights=\"imagenet\", include_top=False,input_tensor=Input(shape=(img_size, img_size, 3)))\n",
    "# construct the head of the model that will be placed on top of the the base model\n"
   ]
  },
  {
   "cell_type": "code",
   "execution_count": 11,
   "metadata": {},
   "outputs": [],
   "source": [
    "#baseModel =  pickle.load(open('../Models/VGG16.sav', 'rb'))"
   ]
  },
  {
   "cell_type": "code",
   "execution_count": 12,
   "metadata": {},
   "outputs": [],
   "source": [
    "# loop over all layers in the base model and freeze them so they will\n",
    "# *not* be updated during the first training process\n",
    "for layer in baseModel.layers:\n",
    "    layer.trainable = False"
   ]
  },
  {
   "cell_type": "code",
   "execution_count": 13,
   "metadata": {},
   "outputs": [],
   "source": [
    "headModel = baseModel.output\n",
    "headModel = Flatten(name=\"flatten\")(headModel)\n",
    "headModel = Dense(512, activation=\"relu\")(headModel)\n",
    "headModel = Dropout(0.5)(headModel)\n",
    "headModel = Dense(FUEL_TYPE_NUM_CLASS, activation=\"softmax\")(headModel)\n",
    "# place the head FC model on top of the base model (this will become\n",
    "# the actual model we will train)\n",
    "model = Model(inputs=baseModel.input, outputs=headModel)"
   ]
  },
  {
   "cell_type": "code",
   "execution_count": 14,
   "metadata": {},
   "outputs": [
    {
     "name": "stdout",
     "output_type": "stream",
     "text": [
      "[INFO] compiling model...\n",
      "[INFO] training head...\n",
      "Epoch 1/100\n",
      "58/58 [==============================] - 92s 2s/step - loss: 7.3706 - accuracy: 0.5662 - val_loss: 0.0272 - val_accuracy: 0.7936\n",
      "Epoch 2/100\n",
      "58/58 [==============================] - 81s 1s/step - loss: 1.4697 - accuracy: 0.7803 - val_loss: 0.0304 - val_accuracy: 0.8244\n",
      "Epoch 3/100\n",
      "58/58 [==============================] - 85s 1s/step - loss: 0.4590 - accuracy: 0.8603 - val_loss: 0.0599 - val_accuracy: 0.9156\n",
      "Epoch 4/100\n",
      "58/58 [==============================] - 82s 1s/step - loss: 0.2529 - accuracy: 0.9112 - val_loss: 0.0127 - val_accuracy: 0.9265\n",
      "Epoch 5/100\n",
      "58/58 [==============================] - 106s 2s/step - loss: 0.1562 - accuracy: 0.9408 - val_loss: 0.0373 - val_accuracy: 0.9101\n",
      "Epoch 6/100\n",
      "58/58 [==============================] - 83s 1s/step - loss: 0.1891 - accuracy: 0.9258 - val_loss: 0.1786 - val_accuracy: 0.9074\n",
      "Epoch 7/100\n",
      "58/58 [==============================] - 72s 1s/step - loss: 0.1561 - accuracy: 0.9316 - val_loss: 0.5473 - val_accuracy: 0.9353\n",
      "Epoch 8/100\n",
      "58/58 [==============================] - 77s 1s/step - loss: 0.1671 - accuracy: 0.9300 - val_loss: 0.2532 - val_accuracy: 0.9707\n",
      "Epoch 9/100\n",
      "58/58 [==============================] - 73s 1s/step - loss: 0.1364 - accuracy: 0.9431 - val_loss: 0.0608 - val_accuracy: 0.9571\n",
      "Epoch 10/100\n",
      "58/58 [==============================] - 72s 1s/step - loss: 0.1133 - accuracy: 0.9518 - val_loss: 0.1526 - val_accuracy: 0.9401\n",
      "Epoch 11/100\n",
      "58/58 [==============================] - 72s 1s/step - loss: 0.1555 - accuracy: 0.9219 - val_loss: 0.1838 - val_accuracy: 0.9503\n",
      "Epoch 12/100\n",
      "58/58 [==============================] - 73s 1s/step - loss: 0.1178 - accuracy: 0.9453 - val_loss: 0.0603 - val_accuracy: 0.9503\n",
      "Epoch 13/100\n",
      "58/58 [==============================] - 69s 1s/step - loss: 0.1069 - accuracy: 0.9478 - val_loss: 9.5416e-04 - val_accuracy: 0.9503\n",
      "Epoch 14/100\n",
      "58/58 [==============================] - 71s 1s/step - loss: 0.1129 - accuracy: 0.9508 - val_loss: 0.1958 - val_accuracy: 0.9505\n",
      "Epoch 15/100\n",
      "58/58 [==============================] - 72s 1s/step - loss: 0.0979 - accuracy: 0.9593 - val_loss: 0.0159 - val_accuracy: 0.9503\n",
      "Epoch 16/100\n",
      "58/58 [==============================] - 72s 1s/step - loss: 0.0955 - accuracy: 0.9535 - val_loss: 0.0118 - val_accuracy: 0.9415\n",
      "Epoch 17/100\n",
      "58/58 [==============================] - 74s 1s/step - loss: 0.0956 - accuracy: 0.9610 - val_loss: 0.0059 - val_accuracy: 0.9544\n",
      "Epoch 18/100\n",
      "58/58 [==============================] - 69s 1s/step - loss: 0.1157 - accuracy: 0.9475 - val_loss: 0.0046 - val_accuracy: 0.9551\n",
      "Epoch 19/100\n",
      "58/58 [==============================] - 67s 1s/step - loss: 0.1025 - accuracy: 0.9584 - val_loss: 0.0786 - val_accuracy: 0.9415\n",
      "Epoch 20/100\n",
      "58/58 [==============================] - 72s 1s/step - loss: 0.1257 - accuracy: 0.9365 - val_loss: 0.5118 - val_accuracy: 0.9523\n",
      "Epoch 21/100\n",
      "58/58 [==============================] - 67s 1s/step - loss: 0.0719 - accuracy: 0.9727 - val_loss: 0.2652 - val_accuracy: 0.9721\n",
      "Epoch 22/100\n",
      "58/58 [==============================] - 65s 1s/step - loss: 0.0733 - accuracy: 0.9634 - val_loss: 0.0405 - val_accuracy: 0.9571\n",
      "Epoch 23/100\n",
      "58/58 [==============================] - 71s 1s/step - loss: 0.0989 - accuracy: 0.9531 - val_loss: 0.2292 - val_accuracy: 0.9551\n",
      "Epoch 24/100\n",
      "58/58 [==============================] - 68s 1s/step - loss: 0.0905 - accuracy: 0.9575 - val_loss: 0.0576 - val_accuracy: 0.9469\n",
      "Epoch 25/100\n",
      "58/58 [==============================] - 67s 1s/step - loss: 0.0760 - accuracy: 0.9700 - val_loss: 0.0659 - val_accuracy: 0.9605\n",
      "Epoch 26/100\n",
      "58/58 [==============================] - 72s 1s/step - loss: 0.0962 - accuracy: 0.9605 - val_loss: 4.3714e-04 - val_accuracy: 0.9496\n",
      "Epoch 27/100\n",
      "58/58 [==============================] - 68s 1s/step - loss: 0.0625 - accuracy: 0.9774 - val_loss: 0.1509 - val_accuracy: 0.9512\n",
      "Epoch 28/100\n",
      "58/58 [==============================] - 74s 1s/step - loss: 0.0880 - accuracy: 0.9545 - val_loss: 0.0059 - val_accuracy: 0.9578\n",
      "Epoch 29/100\n",
      "58/58 [==============================] - 69s 1s/step - loss: 0.0895 - accuracy: 0.9639 - val_loss: 0.0018 - val_accuracy: 0.9510\n",
      "Epoch 30/100\n",
      "58/58 [==============================] - 75s 1s/step - loss: 0.0840 - accuracy: 0.9648 - val_loss: 0.0026 - val_accuracy: 0.9571\n",
      "Epoch 31/100\n",
      "58/58 [==============================] - 71s 1s/step - loss: 0.0603 - accuracy: 0.9795 - val_loss: 0.0018 - val_accuracy: 0.9476\n",
      "Epoch 32/100\n",
      "58/58 [==============================] - 68s 1s/step - loss: 0.0830 - accuracy: 0.9616 - val_loss: 0.1185 - val_accuracy: 0.9483\n",
      "Epoch 33/100\n",
      "58/58 [==============================] - 66s 1s/step - loss: 0.0553 - accuracy: 0.9785 - val_loss: 0.6799 - val_accuracy: 0.9578\n",
      "Epoch 34/100\n",
      "58/58 [==============================] - 71s 1s/step - loss: 0.0974 - accuracy: 0.9562 - val_loss: 0.3553 - val_accuracy: 0.9741\n",
      "Epoch 35/100\n",
      "58/58 [==============================] - 69s 1s/step - loss: 0.0364 - accuracy: 0.9897 - val_loss: 0.0247 - val_accuracy: 0.9646\n",
      "Epoch 36/100\n",
      "58/58 [==============================] - 63s 1s/step - loss: 0.0842 - accuracy: 0.9617 - val_loss: 0.1094 - val_accuracy: 0.9598\n",
      "Epoch 37/100\n",
      "58/58 [==============================] - 72s 1s/step - loss: 0.0731 - accuracy: 0.9713 - val_loss: 0.1609 - val_accuracy: 0.9660\n",
      "Epoch 38/100\n",
      "58/58 [==============================] - 69s 1s/step - loss: 0.0778 - accuracy: 0.9637 - val_loss: 0.0241 - val_accuracy: 0.9660\n",
      "Epoch 39/100\n",
      "58/58 [==============================] - 65s 1s/step - loss: 0.0736 - accuracy: 0.9724 - val_loss: 3.0291e-04 - val_accuracy: 0.9653\n",
      "Epoch 40/100\n",
      "58/58 [==============================] - 70s 1s/step - loss: 0.0650 - accuracy: 0.9742 - val_loss: 0.1337 - val_accuracy: 0.9577\n",
      "Epoch 41/100\n",
      "58/58 [==============================] - 73s 1s/step - loss: 0.0617 - accuracy: 0.9745 - val_loss: 0.0025 - val_accuracy: 0.9646\n",
      "Epoch 42/100\n",
      "58/58 [==============================] - 70s 1s/step - loss: 0.0710 - accuracy: 0.9693 - val_loss: 0.0029 - val_accuracy: 0.9558\n",
      "Epoch 43/100\n",
      "58/58 [==============================] - 71s 1s/step - loss: 0.0445 - accuracy: 0.9822 - val_loss: 0.0019 - val_accuracy: 0.9496\n",
      "Epoch 44/100\n",
      "58/58 [==============================] - 65s 1s/step - loss: 0.0831 - accuracy: 0.9621 - val_loss: 0.0019 - val_accuracy: 0.9578\n",
      "Epoch 45/100\n",
      "58/58 [==============================] - 71s 1s/step - loss: 0.0490 - accuracy: 0.9817 - val_loss: 0.1263 - val_accuracy: 0.9510\n",
      "Epoch 46/100\n",
      "58/58 [==============================] - 70s 1s/step - loss: 0.0606 - accuracy: 0.9757 - val_loss: 0.4515 - val_accuracy: 0.9666\n",
      "Epoch 47/100\n",
      "58/58 [==============================] - 65s 1s/step - loss: 0.0627 - accuracy: 0.9762 - val_loss: 0.2704 - val_accuracy: 0.9769\n",
      "Epoch 48/100\n",
      "58/58 [==============================] - 68s 1s/step - loss: 0.0796 - accuracy: 0.9631 - val_loss: 0.0243 - val_accuracy: 0.9721\n",
      "Epoch 49/100\n",
      "58/58 [==============================] - 71s 1s/step - loss: 0.0620 - accuracy: 0.9755 - val_loss: 0.1045 - val_accuracy: 0.9578\n",
      "Epoch 50/100\n",
      "58/58 [==============================] - 64s 1s/step - loss: 0.0477 - accuracy: 0.9830 - val_loss: 0.0217 - val_accuracy: 0.9605\n",
      "Epoch 51/100\n",
      "58/58 [==============================] - 71s 1s/step - loss: 0.0653 - accuracy: 0.9739 - val_loss: 0.0792 - val_accuracy: 0.9721\n",
      "Epoch 52/100\n",
      "58/58 [==============================] - 67s 1s/step - loss: 0.0602 - accuracy: 0.9758 - val_loss: 3.3980e-04 - val_accuracy: 0.9639\n",
      "Epoch 53/100\n",
      "58/58 [==============================] - 66s 1s/step - loss: 0.0536 - accuracy: 0.9810 - val_loss: 0.0964 - val_accuracy: 0.9616\n",
      "Epoch 54/100\n",
      "58/58 [==============================] - 70s 1s/step - loss: 0.0516 - accuracy: 0.9780 - val_loss: 0.0045 - val_accuracy: 0.9612\n",
      "Epoch 55/100\n",
      "58/58 [==============================] - 69s 1s/step - loss: 0.0572 - accuracy: 0.9750 - val_loss: 0.0015 - val_accuracy: 0.9598\n",
      "Epoch 56/100\n",
      "58/58 [==============================] - 70s 1s/step - loss: 0.0538 - accuracy: 0.9772 - val_loss: 0.0019 - val_accuracy: 0.9489\n",
      "Epoch 57/100\n",
      "58/58 [==============================] - 71s 1s/step - loss: 0.0598 - accuracy: 0.9759 - val_loss: 0.0028 - val_accuracy: 0.9700\n",
      "Epoch 58/100\n"
     ]
    },
    {
     "name": "stdout",
     "output_type": "stream",
     "text": [
      "58/58 [==============================] - 68s 1s/step - loss: 0.0561 - accuracy: 0.9769 - val_loss: 0.1334 - val_accuracy: 0.9592\n",
      "Epoch 59/100\n",
      "58/58 [==============================] - 70s 1s/step - loss: 0.0523 - accuracy: 0.9789 - val_loss: 0.5252 - val_accuracy: 0.9653\n",
      "Epoch 60/100\n",
      "58/58 [==============================] - 68s 1s/step - loss: 0.0481 - accuracy: 0.9798 - val_loss: 0.3700 - val_accuracy: 0.9769\n",
      "Epoch 61/100\n",
      "58/58 [==============================] - 81s 1s/step - loss: 0.0559 - accuracy: 0.9818 - val_loss: 0.0155 - val_accuracy: 0.9653\n",
      "Epoch 62/100\n",
      "58/58 [==============================] - 75s 1s/step - loss: 0.0547 - accuracy: 0.9747 - val_loss: 0.1030 - val_accuracy: 0.9551\n",
      "Epoch 63/100\n",
      "58/58 [==============================] - 74s 1s/step - loss: 0.0564 - accuracy: 0.9781 - val_loss: 0.0166 - val_accuracy: 0.9612\n",
      "Epoch 64/100\n",
      "58/58 [==============================] - 77s 1s/step - loss: 0.0571 - accuracy: 0.9804 - val_loss: 0.0193 - val_accuracy: 0.9639\n",
      "Epoch 65/100\n",
      "58/58 [==============================] - 71s 1s/step - loss: 0.0425 - accuracy: 0.9838 - val_loss: 1.7272e-04 - val_accuracy: 0.9653\n",
      "Epoch 66/100\n",
      "58/58 [==============================] - 71s 1s/step - loss: 0.0495 - accuracy: 0.9823 - val_loss: 0.0987 - val_accuracy: 0.9577\n",
      "Epoch 67/100\n",
      "58/58 [==============================] - 76s 1s/step - loss: 0.0624 - accuracy: 0.9717 - val_loss: 0.0045 - val_accuracy: 0.9700\n",
      "Epoch 68/100\n",
      "58/58 [==============================] - 78s 1s/step - loss: 0.0457 - accuracy: 0.9829 - val_loss: 0.0015 - val_accuracy: 0.9639\n",
      "Epoch 69/100\n",
      "58/58 [==============================] - 78s 1s/step - loss: 0.0426 - accuracy: 0.9840 - val_loss: 0.0013 - val_accuracy: 0.9632\n",
      "Epoch 70/100\n",
      "58/58 [==============================] - 74s 1s/step - loss: 0.0426 - accuracy: 0.9879 - val_loss: 0.0014 - val_accuracy: 0.9612\n",
      "Epoch 71/100\n",
      "58/58 [==============================] - 74s 1s/step - loss: 0.0394 - accuracy: 0.9831 - val_loss: 0.0814 - val_accuracy: 0.9558\n",
      "Epoch 72/100\n",
      "58/58 [==============================] - 74s 1s/step - loss: 0.0486 - accuracy: 0.9807 - val_loss: 0.6058 - val_accuracy: 0.9639\n",
      "Epoch 73/100\n",
      "58/58 [==============================] - 71s 1s/step - loss: 0.0497 - accuracy: 0.9825 - val_loss: 0.1335 - val_accuracy: 0.9850\n",
      "Epoch 74/100\n",
      "58/58 [==============================] - 68s 1s/step - loss: 0.0422 - accuracy: 0.9796 - val_loss: 0.0135 - val_accuracy: 0.9687\n",
      "Epoch 75/100\n",
      "58/58 [==============================] - 73s 1s/step - loss: 0.0491 - accuracy: 0.9814 - val_loss: 0.0552 - val_accuracy: 0.9646\n",
      "Epoch 76/100\n",
      "58/58 [==============================] - 68s 1s/step - loss: 0.0454 - accuracy: 0.9833 - val_loss: 0.0169 - val_accuracy: 0.9707\n",
      "Epoch 77/100\n",
      "58/58 [==============================] - 67s 1s/step - loss: 0.0490 - accuracy: 0.9853 - val_loss: 0.0200 - val_accuracy: 0.9619\n",
      "Epoch 78/100\n",
      "58/58 [==============================] - 69s 1s/step - loss: 0.0335 - accuracy: 0.9859 - val_loss: 1.2569e-04 - val_accuracy: 0.9626\n",
      "Epoch 79/100\n",
      "58/58 [==============================] - 67s 1s/step - loss: 0.0420 - accuracy: 0.9838 - val_loss: 0.1243 - val_accuracy: 0.9642\n",
      "Epoch 80/100\n",
      "58/58 [==============================] - 73s 1s/step - loss: 0.0600 - accuracy: 0.9754 - val_loss: 6.6697e-04 - val_accuracy: 0.9632\n",
      "Epoch 81/100\n",
      "58/58 [==============================] - 69s 1s/step - loss: 0.0457 - accuracy: 0.9829 - val_loss: 0.0024 - val_accuracy: 0.9714\n",
      "Epoch 82/100\n",
      "58/58 [==============================] - 65s 1s/step - loss: 0.0437 - accuracy: 0.9820 - val_loss: 0.0016 - val_accuracy: 0.9612\n",
      "Epoch 83/100\n",
      "58/58 [==============================] - 72s 1s/step - loss: 0.0351 - accuracy: 0.9898 - val_loss: 0.0021 - val_accuracy: 0.9687\n",
      "Epoch 84/100\n",
      "58/58 [==============================] - 68s 1s/step - loss: 0.0420 - accuracy: 0.9833 - val_loss: 0.1158 - val_accuracy: 0.9666\n",
      "Epoch 85/100\n",
      "58/58 [==============================] - 65s 1s/step - loss: 0.0484 - accuracy: 0.9815 - val_loss: 0.5930 - val_accuracy: 0.9632\n",
      "Epoch 86/100\n",
      "58/58 [==============================] - 70s 1s/step - loss: 0.0477 - accuracy: 0.9821 - val_loss: 0.2219 - val_accuracy: 0.9823\n",
      "Epoch 87/100\n",
      "58/58 [==============================] - 67s 1s/step - loss: 0.0250 - accuracy: 0.9920 - val_loss: 0.0203 - val_accuracy: 0.9789\n",
      "Epoch 88/100\n",
      "58/58 [==============================] - 64s 1s/step - loss: 0.0567 - accuracy: 0.9774 - val_loss: 0.0359 - val_accuracy: 0.9612\n",
      "Epoch 89/100\n",
      "58/58 [==============================] - 72s 1s/step - loss: 0.0342 - accuracy: 0.9860 - val_loss: 0.0188 - val_accuracy: 0.9680\n",
      "Epoch 90/100\n",
      "58/58 [==============================] - 68s 1s/step - loss: 0.0313 - accuracy: 0.9905 - val_loss: 0.0055 - val_accuracy: 0.9544\n",
      "Epoch 91/100\n",
      "58/58 [==============================] - 63s 1s/step - loss: 0.0521 - accuracy: 0.9792 - val_loss: 1.7848e-04 - val_accuracy: 0.9721\n",
      "Epoch 92/100\n",
      "58/58 [==============================] - 70s 1s/step - loss: 0.0475 - accuracy: 0.9827 - val_loss: 0.0627 - val_accuracy: 0.9622\n",
      "Epoch 93/100\n",
      "58/58 [==============================] - 75s 1s/step - loss: 0.0262 - accuracy: 0.9886 - val_loss: 0.0032 - val_accuracy: 0.9680\n",
      "Epoch 94/100\n",
      "58/58 [==============================] - 72s 1s/step - loss: 0.0403 - accuracy: 0.9859 - val_loss: 0.0022 - val_accuracy: 0.9646\n",
      "Epoch 95/100\n",
      "58/58 [==============================] - 69s 1s/step - loss: 0.0350 - accuracy: 0.9899 - val_loss: 0.0011 - val_accuracy: 0.9632\n",
      "Epoch 96/100\n",
      "58/58 [==============================] - 66s 1s/step - loss: 0.0372 - accuracy: 0.9844 - val_loss: 0.0016 - val_accuracy: 0.9503\n",
      "Epoch 97/100\n",
      "58/58 [==============================] - 71s 1s/step - loss: 0.0431 - accuracy: 0.9796 - val_loss: 0.0860 - val_accuracy: 0.9680\n",
      "Epoch 98/100\n",
      "58/58 [==============================] - 69s 1s/step - loss: 0.0327 - accuracy: 0.9883 - val_loss: 0.4805 - val_accuracy: 0.9680\n",
      "Epoch 99/100\n",
      "58/58 [==============================] - 66s 1s/step - loss: 0.0359 - accuracy: 0.9845 - val_loss: 0.2482 - val_accuracy: 0.9830\n",
      "Epoch 100/100\n",
      "58/58 [==============================] - 70s 1s/step - loss: 0.0497 - accuracy: 0.9821 - val_loss: 0.0205 - val_accuracy: 0.9769\n"
     ]
    }
   ],
   "source": [
    "# compile our model (this needs to be done after our setting our layers to being non-trainable\n",
    "print(\"[INFO] compiling model...\")\n",
    "opt = SGD(lr=1e-4, momentum=0.9)\n",
    "model.compile(loss=\"categorical_crossentropy\", optimizer=opt, metrics=[\"accuracy\"])\n",
    "# train the head of the network for a few epochs (all other layers\n",
    "# are frozen) -- this will allow the new FC layers to start to become\n",
    "#initialized with actual \"learned\" values versus pure random\n",
    "print(\"[INFO] training head...\")\n",
    "H = model.fit_generator(\n",
    "    trainGen,\n",
    "    steps_per_epoch=totalTrain // BATCH_SIZE,\n",
    "    validation_data=valGen,\n",
    "    validation_steps=totalVal // BATCH_SIZE,\n",
    "    epochs=EPOCHS)\n",
    "# reset the testing generator and evaluate the network after\n",
    "# fine-tuning just the network head"
   ]
  },
  {
   "cell_type": "code",
   "execution_count": 15,
   "metadata": {},
   "outputs": [
    {
     "name": "stdout",
     "output_type": "stream",
     "text": [
      "[INFO] evaluating after fine-tuning network head...\n",
      "              precision    recall  f1-score   support\n",
      "\n",
      "    20H280NG       0.95      0.99      0.97       347\n",
      "     Ethlyne       0.99      0.93      0.96       288\n",
      "          F1       0.96      0.70      0.81        61\n",
      "          F2       1.00      0.99      0.99       156\n",
      "          NG       0.97      1.00      0.98       745\n",
      "\n",
      "    accuracy                           0.97      1597\n",
      "   macro avg       0.97      0.92      0.94      1597\n",
      "weighted avg       0.97      0.97      0.97      1597\n",
      "\n"
     ]
    }
   ],
   "source": [
    "print(\"[INFO] evaluating after fine-tuning network head...\")\n",
    "testGen.reset()\n",
    "predIdxs = model.predict_generator(testGen,\n",
    "    steps=(totalTest // BATCH_SIZE) + 1)\n",
    "predIdxsClasses = np.argmax(predIdxs, axis=1)\n",
    "print(classification_report(testGen.classes, predIdxsClasses,\n",
    "    target_names=testGen.class_indices.keys()))"
   ]
  },
  {
   "cell_type": "code",
   "execution_count": 16,
   "metadata": {},
   "outputs": [
    {
     "data": {
      "text/plain": [
       "['20H280NG', 'Ethlyne', 'F1', 'F2', 'NG']"
      ]
     },
     "execution_count": 16,
     "metadata": {},
     "output_type": "execute_result"
    }
   ],
   "source": [
    "labs = testGen.class_indices.keys()\n",
    "FTLabels = []\n",
    "for lab in labs:\n",
    "    FTLabels.append(lab)\n",
    "FTLabels"
   ]
  },
  {
   "cell_type": "code",
   "execution_count": 17,
   "metadata": {},
   "outputs": [
    {
     "data": {
      "text/html": [
       "<div>\n",
       "<style scoped>\n",
       "    .dataframe tbody tr th:only-of-type {\n",
       "        vertical-align: middle;\n",
       "    }\n",
       "\n",
       "    .dataframe tbody tr th {\n",
       "        vertical-align: top;\n",
       "    }\n",
       "\n",
       "    .dataframe thead th {\n",
       "        text-align: right;\n",
       "    }\n",
       "</style>\n",
       "<table border=\"1\" class=\"dataframe\">\n",
       "  <thead>\n",
       "    <tr style=\"text-align: right;\">\n",
       "      <th></th>\n",
       "      <th>20H280NG</th>\n",
       "      <th>Ethlyne</th>\n",
       "      <th>F1</th>\n",
       "      <th>F2</th>\n",
       "      <th>NG</th>\n",
       "    </tr>\n",
       "  </thead>\n",
       "  <tbody>\n",
       "    <tr>\n",
       "      <td>20H280NG</td>\n",
       "      <td>344</td>\n",
       "      <td>1</td>\n",
       "      <td>2</td>\n",
       "      <td>0</td>\n",
       "      <td>0</td>\n",
       "    </tr>\n",
       "    <tr>\n",
       "      <td>Ethlyne</td>\n",
       "      <td>0</td>\n",
       "      <td>267</td>\n",
       "      <td>0</td>\n",
       "      <td>0</td>\n",
       "      <td>21</td>\n",
       "    </tr>\n",
       "    <tr>\n",
       "      <td>F1</td>\n",
       "      <td>17</td>\n",
       "      <td>0</td>\n",
       "      <td>43</td>\n",
       "      <td>0</td>\n",
       "      <td>1</td>\n",
       "    </tr>\n",
       "    <tr>\n",
       "      <td>F2</td>\n",
       "      <td>2</td>\n",
       "      <td>0</td>\n",
       "      <td>0</td>\n",
       "      <td>154</td>\n",
       "      <td>0</td>\n",
       "    </tr>\n",
       "    <tr>\n",
       "      <td>NG</td>\n",
       "      <td>1</td>\n",
       "      <td>2</td>\n",
       "      <td>0</td>\n",
       "      <td>0</td>\n",
       "      <td>742</td>\n",
       "    </tr>\n",
       "  </tbody>\n",
       "</table>\n",
       "</div>"
      ],
      "text/plain": [
       "          20H280NG  Ethlyne  F1   F2   NG\n",
       "20H280NG       344        1   2    0    0\n",
       "Ethlyne          0      267   0    0   21\n",
       "F1              17        0  43    0    1\n",
       "F2               2        0   0  154    0\n",
       "NG               1        2   0    0  742"
      ]
     },
     "execution_count": 17,
     "metadata": {},
     "output_type": "execute_result"
    }
   ],
   "source": [
    "cm = confusion_matrix(testGen.classes, predIdxsClasses)\n",
    "cm = pd.DataFrame(cm)\n",
    "cm.columns = FTLabels\n",
    "cm.index = FTLabels\n",
    "cm"
   ]
  },
  {
   "cell_type": "code",
   "execution_count": 18,
   "metadata": {},
   "outputs": [],
   "source": [
    "WARMUP_PLOT_PATH = '../FTIndv/fttrain.png'\n",
    "plot_train_history(H, EPOCHS, WARMUP_PLOT_PATH)"
   ]
  },
  {
   "cell_type": "code",
   "execution_count": null,
   "metadata": {},
   "outputs": [],
   "source": [
    "pickle.dump(model, open('../Models/FuelTypeModel/FTModel.sav', 'wb'))"
   ]
  },
  {
   "cell_type": "code",
   "execution_count": null,
   "metadata": {},
   "outputs": [],
   "source": []
  }
 ],
 "metadata": {
  "kernelspec": {
   "display_name": "Python 3",
   "language": "python",
   "name": "python3"
  },
  "language_info": {
   "codemirror_mode": {
    "name": "ipython",
    "version": 3
   },
   "file_extension": ".py",
   "mimetype": "text/x-python",
   "name": "python",
   "nbconvert_exporter": "python",
   "pygments_lexer": "ipython3",
   "version": "3.7.4"
  }
 },
 "nbformat": 4,
 "nbformat_minor": 2
}
