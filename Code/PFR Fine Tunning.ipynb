{
 "cells": [
  {
   "cell_type": "code",
   "execution_count": 1,
   "metadata": {},
   "outputs": [
    {
     "name": "stderr",
     "output_type": "stream",
     "text": [
      "Using TensorFlow backend.\n"
     ]
    }
   ],
   "source": [
    "# set the matplotlib backend so figures can be saved in the background\n",
    "import matplotlib\n",
    "import keras\n",
    "from IPython.display import clear_output\n",
    "# import the necessary packages\n",
    "from keras.preprocessing.image import ImageDataGenerator\n",
    "from keras.applications import VGG16\n",
    "from keras.callbacks import ModelCheckpoint\n",
    "from keras.layers.core import Dropout\n",
    "from keras.layers.core import Flatten\n",
    "from keras.layers.core import Dense\n",
    "from sklearn.metrics import confusion_matrix\n",
    "from keras.layers import Input\n",
    "from keras.models import Model\n",
    "from keras.optimizers import SGD\n",
    "from sklearn.metrics import classification_report\n",
    "from imutils import paths\n",
    "import pandas as pd\n",
    "import matplotlib.pyplot as plt\n",
    "import numpy as np\n",
    "from sklearn.utils import class_weight\n",
    "import pickle\n",
    "import os"
   ]
  },
  {
   "cell_type": "code",
   "execution_count": 2,
   "metadata": {},
   "outputs": [],
   "source": [
    "trainPath = '../PFR_Data/train/'\n",
    "testPath = '../PFR_Data/test/'\n",
    "valPath = '../PFR_Data/vald'\n",
    "\n",
    "PFR_NUM_CLASS = 10\n",
    "FUEL_TYPE_NUM_CLASS = 5\n",
    "BATCH_SIZE = 128\n",
    "EPOCHS =50"
   ]
  },
  {
   "cell_type": "code",
   "execution_count": 3,
   "metadata": {},
   "outputs": [],
   "source": [
    "totalTrain = len(list(paths.list_images(trainPath)))\n",
    "totalVal = len(list(paths.list_images(valPath)))\n",
    "totalTest = len(list(paths.list_images(testPath)))"
   ]
  },
  {
   "cell_type": "code",
   "execution_count": 15,
   "metadata": {},
   "outputs": [],
   "source": [
    "def  plot_train_history(history,N,path):\n",
    "    fig, axes = plt.subplots(1, 2, figsize=(20, 5))\n",
    "    axes[0].plot(history.history['loss'], label='PFR Train Loss')\n",
    "    axes[0].plot(history.history['val_loss'], label='PFR Val Loss')\n",
    "    axes[0].set_xlabel('Epochs')\n",
    "    axes[0].legend()\n",
    "    \n",
    "    axes[1].plot(history.history['accuracy'], label='FT Train accuracy')\n",
    "    axes[1].plot(history.history['val_accuracy'], label='FT Val accuracy')\n",
    "    axes[1].set_xlabel('Epochs')\n",
    "    axes[1].legend()\n",
    "    \n",
    "    plt.savefig(path)"
   ]
  },
  {
   "cell_type": "markdown",
   "metadata": {},
   "source": [
    "## Augmentation"
   ]
  },
  {
   "cell_type": "code",
   "execution_count": 5,
   "metadata": {},
   "outputs": [],
   "source": [
    "# initialize the training data augmentation object\n",
    "trainAug = ImageDataGenerator('''\n",
    "    rotation_range=30,\n",
    "    zoom_range=0.15,\n",
    "    width_shift_range=0.2,\n",
    "    height_shift_range=0.2,\n",
    "    shear_range=0.15,\n",
    "    horizontal_flip=True,\n",
    "    fill_mode=\"nearest\"''')\n",
    "# initialize the validation/testing data augmentation object (which\n",
    "# we'll be adding mean subtraction to)\n",
    "valAug = ImageDataGenerator()\n",
    "# define the ImageNet mean subtraction (in RGB order) and set the\n",
    "# the mean subtraction value for each of the data augmentation\n",
    "# objects\n",
    "mean = np.array([123.68, 116.779, 103.939], dtype=\"float32\")\n",
    "trainAug.mean = mean\n",
    "valAug.mean = mean"
   ]
  },
  {
   "cell_type": "markdown",
   "metadata": {},
   "source": [
    "## Generator"
   ]
  },
  {
   "cell_type": "code",
   "execution_count": 6,
   "metadata": {},
   "outputs": [
    {
     "name": "stdout",
     "output_type": "stream",
     "text": [
      "Found 7484 images belonging to 10 classes.\n",
      "Found 1591 images belonging to 10 classes.\n",
      "Found 1591 images belonging to 10 classes.\n"
     ]
    }
   ],
   "source": [
    "# initialize the training generator\n",
    "img_size = 224\n",
    "trainGen = trainAug.flow_from_directory(\n",
    "    trainPath,\n",
    "    class_mode=\"categorical\",\n",
    "    target_size=(img_size, img_size),\n",
    "    color_mode=\"rgb\",\n",
    "    shuffle=False,\n",
    "    batch_size=BATCH_SIZE)\n",
    "# initialize the validation generator\n",
    "valGen = valAug.flow_from_directory(\n",
    "    valPath,\n",
    "    class_mode=\"categorical\",\n",
    "    target_size=(img_size, img_size),\n",
    "    color_mode=\"rgb\",\n",
    "    shuffle=False,\n",
    "    batch_size=BATCH_SIZE)\n",
    "# initialize the testing generator\n",
    "testGen = valAug.flow_from_directory(\n",
    "    testPath,\n",
    "    class_mode=\"categorical\",\n",
    "    target_size=(img_size, img_size),\n",
    "    color_mode=\"rgb\",\n",
    "    shuffle=False,\n",
    "    batch_size=BATCH_SIZE)"
   ]
  },
  {
   "cell_type": "markdown",
   "metadata": {},
   "source": [
    "## Model"
   ]
  },
  {
   "cell_type": "code",
   "execution_count": 8,
   "metadata": {},
   "outputs": [
    {
     "name": "stderr",
     "output_type": "stream",
     "text": [
      "C:\\Users\\z0045jzp\\AppData\\Local\\Continuum\\anaconda3\\lib\\site-packages\\keras\\engine\\saving.py:341: UserWarning: No training configuration found in save file: the model was *not* compiled. Compile it manually.\n",
      "  warnings.warn('No training configuration found in save file: '\n"
     ]
    }
   ],
   "source": [
    "baseModel =  pickle.load(open('../Models/VGG16.sav', 'rb'))"
   ]
  },
  {
   "cell_type": "code",
   "execution_count": 9,
   "metadata": {},
   "outputs": [],
   "source": [
    "baseModel = VGG16(weights=\"imagenet\", include_top=False,input_tensor=Input(shape=(img_size, img_size, 3)))\n",
    "headModel = baseModel.output\n",
    "headModel = Flatten(name=\"flatten\")(headModel)\n",
    "headModel = Dense(512, activation=\"relu\")(headModel)\n",
    "headModel = Dropout(0.5)(headModel)\n",
    "headModel = Dense(PFR_NUM_CLASS, activation=\"softmax\")(headModel)\n",
    "# place the head FC model on top of the base model (this will become\n",
    "# the actual model we will train)\n",
    "model = Model(inputs=baseModel.input, outputs=headModel)\n",
    "# loop over all layers in the base model and freeze them so they will\n",
    "# *not* be updated during the first training process\n",
    "for layer in baseModel.layers:\n",
    "    layer.trainable = False"
   ]
  },
  {
   "cell_type": "code",
   "execution_count": 10,
   "metadata": {},
   "outputs": [
    {
     "data": {
      "text/plain": [
       "array([0.18511007, 2.06740331, 1.00321716, 3.53018868, 2.48637874,\n",
       "       2.27477204, 1.57557895, 6.68214286, 1.04233983, 4.02365591])"
      ]
     },
     "execution_count": 10,
     "metadata": {},
     "output_type": "execute_result"
    }
   ],
   "source": [
    "class_weights = class_weight.compute_class_weight(\n",
    "               'balanced',\n",
    "                np.unique(trainGen.classes), \n",
    "                trainGen.classes)\n",
    "class_weights"
   ]
  },
  {
   "cell_type": "code",
   "execution_count": 11,
   "metadata": {},
   "outputs": [],
   "source": [
    "checkpoint_template = os.path.join('../Models/PFRModel/checkpoint/', \"pfrNet_{epoch:03d}_{val_loss:.2f}.hdf5\")\n",
    "checkpoint = ModelCheckpoint('../Models/PFRModel/checkpoint/PFRModel.hdf5', monitor='val_loss', verbose=1, save_best_only=True, mode='auto',period=5)\n",
    "callbacks_list = [checkpoint]"
   ]
  },
  {
   "cell_type": "code",
   "execution_count": 13,
   "metadata": {},
   "outputs": [
    {
     "name": "stdout",
     "output_type": "stream",
     "text": [
      "[INFO] compiling model...\n",
      "[INFO] training head...\n",
      "Epoch 1/100\n",
      "58/58 [==============================] - 92s 2s/step - loss: 6.9235 - accuracy: 0.3866 - val_loss: 6.7779 - val_accuracy: 0.6387\n",
      "Epoch 2/100\n",
      "58/58 [==============================] - 85s 1s/step - loss: 3.8298 - accuracy: 0.5517 - val_loss: 7.6744 - val_accuracy: 0.6815\n",
      "Epoch 3/100\n",
      "58/58 [==============================] - 84s 1s/step - loss: 2.9578 - accuracy: 0.5772 - val_loss: 2.8854 - val_accuracy: 0.7300\n",
      "Epoch 4/100\n",
      "58/58 [==============================] - 80s 1s/step - loss: 2.4182 - accuracy: 0.5993 - val_loss: 3.4892 - val_accuracy: 0.6938\n",
      "Epoch 5/100\n",
      "58/58 [==============================] - 78s 1s/step - loss: 1.9540 - accuracy: 0.6461 - val_loss: 1.7562 - val_accuracy: 0.7327\n",
      "Epoch 6/100\n",
      "58/58 [==============================] - 87s 2s/step - loss: 1.5950 - accuracy: 0.6660 - val_loss: 0.6209 - val_accuracy: 0.7307\n",
      "Epoch 7/100\n",
      "58/58 [==============================] - 77s 1s/step - loss: 1.3504 - accuracy: 0.6932 - val_loss: 0.1100 - val_accuracy: 0.7198\n",
      "Epoch 8/100\n",
      "58/58 [==============================] - 73s 1s/step - loss: 1.2999 - accuracy: 0.6858 - val_loss: 0.0404 - val_accuracy: 0.7280\n",
      "Epoch 9/100\n",
      "58/58 [==============================] - 75s 1s/step - loss: 1.0985 - accuracy: 0.7130 - val_loss: 0.1501 - val_accuracy: 0.7389\n",
      "Epoch 10/100\n",
      "58/58 [==============================] - 70s 1s/step - loss: 0.9283 - accuracy: 0.7530 - val_loss: 0.0052 - val_accuracy: 0.7403\n",
      "Epoch 11/100\n",
      "58/58 [==============================] - 72s 1s/step - loss: 0.9185 - accuracy: 0.7490 - val_loss: 0.0570 - val_accuracy: 0.7450\n",
      "Epoch 12/100\n",
      "58/58 [==============================] - 72s 1s/step - loss: 0.9006 - accuracy: 0.7491 - val_loss: 0.0107 - val_accuracy: 0.7423\n",
      "Epoch 13/100\n",
      "58/58 [==============================] - 66s 1s/step - loss: 0.8230 - accuracy: 0.7615 - val_loss: 0.5672 - val_accuracy: 0.7539\n",
      "Epoch 14/100\n",
      "58/58 [==============================] - 71s 1s/step - loss: 0.8435 - accuracy: 0.7523 - val_loss: 3.6937 - val_accuracy: 0.7669\n",
      "Epoch 15/100\n",
      "58/58 [==============================] - 69s 1s/step - loss: 0.7003 - accuracy: 0.7886 - val_loss: 2.1776 - val_accuracy: 0.8284\n",
      "Epoch 16/100\n",
      "58/58 [==============================] - 74s 1s/step - loss: 0.6966 - accuracy: 0.7806 - val_loss: 0.7008 - val_accuracy: 0.8168\n",
      "Epoch 17/100\n",
      "58/58 [==============================] - 71s 1s/step - loss: 0.7278 - accuracy: 0.7719 - val_loss: 2.0889 - val_accuracy: 0.7888\n",
      "Epoch 18/100\n",
      "58/58 [==============================] - 66s 1s/step - loss: 0.5287 - accuracy: 0.8248 - val_loss: 0.7553 - val_accuracy: 0.8100\n",
      "Epoch 19/100\n",
      "58/58 [==============================] - 71s 1s/step - loss: 0.6042 - accuracy: 0.8075 - val_loss: 0.3680 - val_accuracy: 0.8011\n",
      "Epoch 20/100\n",
      "58/58 [==============================] - 70s 1s/step - loss: 0.6628 - accuracy: 0.7829 - val_loss: 0.0287 - val_accuracy: 0.7847\n",
      "Epoch 21/100\n",
      "58/58 [==============================] - 66s 1s/step - loss: 0.5295 - accuracy: 0.8331 - val_loss: 0.0272 - val_accuracy: 0.7785\n",
      "Epoch 22/100\n",
      "58/58 [==============================] - 69s 1s/step - loss: 0.4509 - accuracy: 0.8510 - val_loss: 0.0453 - val_accuracy: 0.7683\n",
      "Epoch 23/100\n",
      "58/58 [==============================] - 70s 1s/step - loss: 0.6686 - accuracy: 0.7807 - val_loss: 0.0022 - val_accuracy: 0.7792\n",
      "Epoch 24/100\n",
      "58/58 [==============================] - 64s 1s/step - loss: 0.5382 - accuracy: 0.8155 - val_loss: 0.0167 - val_accuracy: 0.7820\n",
      "Epoch 25/100\n",
      "58/58 [==============================] - 71s 1s/step - loss: 0.5132 - accuracy: 0.8248 - val_loss: 0.0192 - val_accuracy: 0.7826\n",
      "Epoch 26/100\n",
      "58/58 [==============================] - 71s 1s/step - loss: 0.4555 - accuracy: 0.8506 - val_loss: 0.7523 - val_accuracy: 0.7908\n",
      "Epoch 27/100\n",
      "58/58 [==============================] - 65s 1s/step - loss: 0.5348 - accuracy: 0.8109 - val_loss: 2.1702 - val_accuracy: 0.8092\n",
      "Epoch 28/100\n",
      "58/58 [==============================] - 74s 1s/step - loss: 0.4398 - accuracy: 0.8534 - val_loss: 1.5090 - val_accuracy: 0.8503\n",
      "Epoch 29/100\n",
      "58/58 [==============================] - 65s 1s/step - loss: 0.4350 - accuracy: 0.8504 - val_loss: 0.6954 - val_accuracy: 0.8319\n",
      "Epoch 30/100\n",
      "58/58 [==============================] - 68s 1s/step - loss: 0.4439 - accuracy: 0.8498 - val_loss: 1.6118 - val_accuracy: 0.8154\n",
      "Epoch 31/100\n",
      "58/58 [==============================] - 70s 1s/step - loss: 0.3811 - accuracy: 0.8636 - val_loss: 0.8374 - val_accuracy: 0.8291\n",
      "Epoch 32/100\n",
      "58/58 [==============================] - 66s 1s/step - loss: 0.4793 - accuracy: 0.8306 - val_loss: 0.3707 - val_accuracy: 0.8209\n",
      "Epoch 33/100\n",
      "58/58 [==============================] - 66s 1s/step - loss: 0.3523 - accuracy: 0.8766 - val_loss: 0.0160 - val_accuracy: 0.8120\n",
      "Epoch 34/100\n",
      "58/58 [==============================] - 70s 1s/step - loss: 0.4466 - accuracy: 0.8421 - val_loss: 0.0126 - val_accuracy: 0.8045\n",
      "Epoch 35/100\n",
      "58/58 [==============================] - 65s 1s/step - loss: 0.3655 - accuracy: 0.8715 - val_loss: 0.0385 - val_accuracy: 0.8018\n",
      "Epoch 36/100\n",
      "58/58 [==============================] - 66s 1s/step - loss: 0.4477 - accuracy: 0.8440 - val_loss: 0.0014 - val_accuracy: 0.8093\n",
      "Epoch 37/100\n",
      "58/58 [==============================] - 69s 1s/step - loss: 0.3594 - accuracy: 0.8741 - val_loss: 0.0106 - val_accuracy: 0.8079\n",
      "Epoch 38/100\n",
      "58/58 [==============================] - 65s 1s/step - loss: 0.3013 - accuracy: 0.8995 - val_loss: 0.0084 - val_accuracy: 0.8079\n",
      "Epoch 39/100\n",
      "58/58 [==============================] - 67s 1s/step - loss: 0.4391 - accuracy: 0.8397 - val_loss: 0.6497 - val_accuracy: 0.8079\n",
      "Epoch 40/100\n",
      "58/58 [==============================] - 69s 1s/step - loss: 0.3449 - accuracy: 0.8733 - val_loss: 2.7601 - val_accuracy: 0.8229\n",
      "Epoch 41/100\n",
      "58/58 [==============================] - 71s 1s/step - loss: 0.3832 - accuracy: 0.8636 - val_loss: 1.3420 - val_accuracy: 0.8640\n",
      "Epoch 42/100\n",
      "58/58 [==============================] - 70s 1s/step - loss: 0.3323 - accuracy: 0.8827 - val_loss: 0.5430 - val_accuracy: 0.8524\n",
      "Epoch 43/100\n",
      "58/58 [==============================] - 66s 1s/step - loss: 0.3582 - accuracy: 0.8723 - val_loss: 1.4290 - val_accuracy: 0.8271\n",
      "Epoch 44/100\n",
      "58/58 [==============================] - 66s 1s/step - loss: 0.3393 - accuracy: 0.8778 - val_loss: 0.6807 - val_accuracy: 0.8510\n",
      "Epoch 45/100\n",
      "58/58 [==============================] - 67s 1s/step - loss: 0.3345 - accuracy: 0.8816 - val_loss: 0.3543 - val_accuracy: 0.8325\n",
      "Epoch 46/100\n",
      "58/58 [==============================] - 63s 1s/step - loss: 0.3124 - accuracy: 0.8802 - val_loss: 0.0127 - val_accuracy: 0.8291\n",
      "Epoch 47/100\n",
      "58/58 [==============================] - 64s 1s/step - loss: 0.3285 - accuracy: 0.8812 - val_loss: 0.0168 - val_accuracy: 0.8182\n",
      "Epoch 48/100\n",
      "58/58 [==============================] - 67s 1s/step - loss: 0.3030 - accuracy: 0.8947 - val_loss: 0.0226 - val_accuracy: 0.8250\n",
      "Epoch 49/100\n",
      "58/58 [==============================] - 64s 1s/step - loss: 0.3486 - accuracy: 0.8746 - val_loss: 0.0012 - val_accuracy: 0.8278\n",
      "Epoch 50/100\n",
      "58/58 [==============================] - 65s 1s/step - loss: 0.2911 - accuracy: 0.8941 - val_loss: 0.0080 - val_accuracy: 0.8195\n",
      "Epoch 51/100\n",
      "58/58 [==============================] - 66s 1s/step - loss: 0.3196 - accuracy: 0.8854 - val_loss: 0.0076 - val_accuracy: 0.8271\n",
      "Epoch 52/100\n",
      "58/58 [==============================] - 66s 1s/step - loss: 0.3014 - accuracy: 0.8910 - val_loss: 0.5275 - val_accuracy: 0.8216\n",
      "Epoch 53/100\n",
      "58/58 [==============================] - 65s 1s/step - loss: 0.3200 - accuracy: 0.8836 - val_loss: 2.0322 - val_accuracy: 0.8451\n",
      "Epoch 54/100\n",
      "58/58 [==============================] - 73s 1s/step - loss: 0.2838 - accuracy: 0.8979 - val_loss: 1.2208 - val_accuracy: 0.8790\n",
      "Epoch 55/100\n",
      "58/58 [==============================] - 67s 1s/step - loss: 0.2987 - accuracy: 0.8888 - val_loss: 0.4913 - val_accuracy: 0.8647\n",
      "Epoch 56/100\n",
      "58/58 [==============================] - 69s 1s/step - loss: 0.2914 - accuracy: 0.8944 - val_loss: 1.1967 - val_accuracy: 0.8394\n",
      "Epoch 57/100\n",
      "58/58 [==============================] - 68s 1s/step - loss: 0.2965 - accuracy: 0.8919 - val_loss: 0.6540 - val_accuracy: 0.8606\n",
      "Epoch 58/100\n"
     ]
    },
    {
     "name": "stdout",
     "output_type": "stream",
     "text": [
      "58/58 [==============================] - 67s 1s/step - loss: 0.2860 - accuracy: 0.8948 - val_loss: 0.3299 - val_accuracy: 0.8483\n",
      "Epoch 59/100\n",
      "58/58 [==============================] - 68s 1s/step - loss: 0.2797 - accuracy: 0.8998 - val_loss: 0.0095 - val_accuracy: 0.8407\n",
      "Epoch 60/100\n",
      "58/58 [==============================] - 67s 1s/step - loss: 0.2636 - accuracy: 0.9067 - val_loss: 0.0125 - val_accuracy: 0.8298\n",
      "Epoch 61/100\n",
      "58/58 [==============================] - 77s 1s/step - loss: 0.2812 - accuracy: 0.8976 - val_loss: 0.0218 - val_accuracy: 0.8319\n",
      "Epoch 62/100\n",
      "58/58 [==============================] - 73s 1s/step - loss: 0.2580 - accuracy: 0.9077 - val_loss: 4.5746e-04 - val_accuracy: 0.8346\n",
      "Epoch 63/100\n",
      "58/58 [==============================] - 75s 1s/step - loss: 0.2645 - accuracy: 0.9077 - val_loss: 0.0060 - val_accuracy: 0.8339\n",
      "Epoch 64/100\n",
      "58/58 [==============================] - 73s 1s/step - loss: 0.2701 - accuracy: 0.8994 - val_loss: 0.0057 - val_accuracy: 0.8353\n",
      "Epoch 65/100\n",
      "58/58 [==============================] - 68s 1s/step - loss: 0.2812 - accuracy: 0.8974 - val_loss: 0.5419 - val_accuracy: 0.8346\n",
      "Epoch 66/100\n",
      "58/58 [==============================] - 70s 1s/step - loss: 0.2455 - accuracy: 0.9114 - val_loss: 2.1733 - val_accuracy: 0.8477\n",
      "Epoch 67/100\n",
      "58/58 [==============================] - 70s 1s/step - loss: 0.2498 - accuracy: 0.9072 - val_loss: 1.1208 - val_accuracy: 0.8838\n",
      "Epoch 68/100\n",
      "58/58 [==============================] - 75s 1s/step - loss: 0.2439 - accuracy: 0.9115 - val_loss: 0.4659 - val_accuracy: 0.8633\n",
      "Epoch 69/100\n",
      "58/58 [==============================] - 76s 1s/step - loss: 0.2566 - accuracy: 0.9052 - val_loss: 1.2000 - val_accuracy: 0.8524\n",
      "Epoch 70/100\n",
      "58/58 [==============================] - 70s 1s/step - loss: 0.2571 - accuracy: 0.9081 - val_loss: 0.5779 - val_accuracy: 0.8653\n",
      "Epoch 71/100\n",
      "58/58 [==============================] - 72s 1s/step - loss: 0.2655 - accuracy: 0.9016 - val_loss: 0.3236 - val_accuracy: 0.8592\n",
      "Epoch 72/100\n",
      "58/58 [==============================] - 72s 1s/step - loss: 0.2360 - accuracy: 0.9141 - val_loss: 0.0095 - val_accuracy: 0.8496\n",
      "Epoch 73/100\n",
      "58/58 [==============================] - 67s 1s/step - loss: 0.2606 - accuracy: 0.9035 - val_loss: 0.0112 - val_accuracy: 0.8407\n",
      "Epoch 74/100\n",
      "58/58 [==============================] - 69s 1s/step - loss: 0.2087 - accuracy: 0.9247 - val_loss: 0.0149 - val_accuracy: 0.8360\n",
      "Epoch 75/100\n",
      "58/58 [==============================] - 69s 1s/step - loss: 0.2007 - accuracy: 0.9288 - val_loss: 3.7221e-04 - val_accuracy: 0.8448\n",
      "Epoch 76/100\n",
      "58/58 [==============================] - 65s 1s/step - loss: 0.2514 - accuracy: 0.9046 - val_loss: 0.0070 - val_accuracy: 0.8360\n",
      "Epoch 77/100\n",
      "58/58 [==============================] - 68s 1s/step - loss: 0.2214 - accuracy: 0.9231 - val_loss: 0.0037 - val_accuracy: 0.8366\n",
      "Epoch 78/100\n",
      "58/58 [==============================] - 66s 1s/step - loss: 0.2456 - accuracy: 0.9073 - val_loss: 0.5386 - val_accuracy: 0.8373\n",
      "Epoch 79/100\n",
      "58/58 [==============================] - 66s 1s/step - loss: 0.2206 - accuracy: 0.9177 - val_loss: 1.7607 - val_accuracy: 0.8587\n",
      "Epoch 80/100\n",
      "58/58 [==============================] - 70s 1s/step - loss: 0.2340 - accuracy: 0.9160 - val_loss: 1.0263 - val_accuracy: 0.8920\n",
      "Epoch 81/100\n",
      "58/58 [==============================] - 66s 1s/step - loss: 0.2266 - accuracy: 0.9144 - val_loss: 0.4216 - val_accuracy: 0.8742\n",
      "Epoch 82/100\n",
      "58/58 [==============================] - 67s 1s/step - loss: 0.1587 - accuracy: 0.9411 - val_loss: 1.1558 - val_accuracy: 0.8585\n",
      "Epoch 83/100\n",
      "58/58 [==============================] - 68s 1s/step - loss: 0.2697 - accuracy: 0.9026 - val_loss: 0.5329 - val_accuracy: 0.8715\n",
      "Epoch 84/100\n",
      "58/58 [==============================] - 64s 1s/step - loss: 0.1886 - accuracy: 0.9286 - val_loss: 0.3526 - val_accuracy: 0.8571\n",
      "Epoch 85/100\n",
      "58/58 [==============================] - 66s 1s/step - loss: 0.2512 - accuracy: 0.9068 - val_loss: 0.0065 - val_accuracy: 0.8537\n",
      "Epoch 86/100\n",
      "58/58 [==============================] - 68s 1s/step - loss: 0.1970 - accuracy: 0.9288 - val_loss: 0.0080 - val_accuracy: 0.8435\n",
      "Epoch 87/100\n",
      "58/58 [==============================] - 64s 1s/step - loss: 0.2101 - accuracy: 0.9209 - val_loss: 0.0140 - val_accuracy: 0.8414\n",
      "Epoch 88/100\n",
      "58/58 [==============================] - 66s 1s/step - loss: 0.2182 - accuracy: 0.9201 - val_loss: 5.1172e-04 - val_accuracy: 0.8524\n",
      "Epoch 89/100\n",
      "58/58 [==============================] - 66s 1s/step - loss: 0.2073 - accuracy: 0.9234 - val_loss: 0.0060 - val_accuracy: 0.8510\n",
      "Epoch 90/100\n",
      "58/58 [==============================] - 65s 1s/step - loss: 0.2219 - accuracy: 0.9197 - val_loss: 0.0069 - val_accuracy: 0.8483\n",
      "Epoch 91/100\n",
      "58/58 [==============================] - 65s 1s/step - loss: 0.2085 - accuracy: 0.9219 - val_loss: 0.5284 - val_accuracy: 0.8469\n",
      "Epoch 92/100\n",
      "58/58 [==============================] - 68s 1s/step - loss: 0.1497 - accuracy: 0.9475 - val_loss: 1.8835 - val_accuracy: 0.8600\n",
      "Epoch 93/100\n",
      "58/58 [==============================] - 71s 1s/step - loss: 0.2108 - accuracy: 0.9222 - val_loss: 0.9204 - val_accuracy: 0.9016\n",
      "Epoch 94/100\n",
      "58/58 [==============================] - 68s 1s/step - loss: 0.2003 - accuracy: 0.9258 - val_loss: 0.3980 - val_accuracy: 0.8756\n",
      "Epoch 95/100\n",
      "58/58 [==============================] - 64s 1s/step - loss: 0.2110 - accuracy: 0.9221 - val_loss: 1.0196 - val_accuracy: 0.8585\n",
      "Epoch 96/100\n",
      "58/58 [==============================] - 65s 1s/step - loss: 0.1925 - accuracy: 0.9289 - val_loss: 0.5672 - val_accuracy: 0.8783\n",
      "Epoch 97/100\n",
      "58/58 [==============================] - 66s 1s/step - loss: 0.2049 - accuracy: 0.9236 - val_loss: 0.3550 - val_accuracy: 0.8571\n",
      "Epoch 98/100\n",
      "58/58 [==============================] - 64s 1s/step - loss: 0.1951 - accuracy: 0.9286 - val_loss: 0.0073 - val_accuracy: 0.8585\n",
      "Epoch 99/100\n",
      "58/58 [==============================] - 64s 1s/step - loss: 0.1742 - accuracy: 0.9365 - val_loss: 0.0081 - val_accuracy: 0.8476\n",
      "Epoch 100/100\n",
      "58/58 [==============================] - 67s 1s/step - loss: 0.1948 - accuracy: 0.9233 - val_loss: 0.0065 - val_accuracy: 0.8476\n"
     ]
    }
   ],
   "source": [
    "# compile our model (this needs to be done after our setting our layers to being non-trainable\n",
    "print(\"[INFO] compiling model...\")\n",
    "opt = SGD(lr=1e-5, momentum=0.8)\n",
    "model.compile(loss=\"categorical_crossentropy\", optimizer=opt, metrics=[\"accuracy\"])\n",
    "# train the head of the network for a few epochs (all other layers\n",
    "# are frozen) -- this will allow the new FC layers to start to become\n",
    "#initialized with actual \"learned\" values versus pure random\n",
    "print(\"[INFO] training head...\")\n",
    "H = model.fit_generator(\n",
    "    trainGen,\n",
    "    steps_per_epoch=totalTrain // BATCH_SIZE,\n",
    "    validation_data=valGen,\n",
    "    validation_steps=totalVal // BATCH_SIZE,\n",
    "    epochs=100,\n",
    "    class_weight=class_weights)\n",
    "# reset the testing generator and evaluate the network after\n",
    "# fine-tuning just the network head"
   ]
  },
  {
   "cell_type": "code",
   "execution_count": 16,
   "metadata": {},
   "outputs": [
    {
     "data": {
      "image/png": "[encoded data removed]",
      "text/plain": [
       "<Figure size 1440x360 with 2 Axes>"
      ]
     },
     "metadata": {
      "needs_background": "light"
     },
     "output_type": "display_data"
    }
   ],
   "source": [
    "plot_train_history(H, 100, '../PFRIndv/pfrTrain.png')"
   ]
  },
  {
   "cell_type": "code",
   "execution_count": 17,
   "metadata": {},
   "outputs": [
    {
     "name": "stdout",
     "output_type": "stream",
     "text": [
      "[INFO] evaluating after fine-tuning network head...\n",
      "              precision    recall  f1-score   support\n",
      "\n",
      "           0       0.94      0.99      0.97       865\n",
      "         1-3       0.79      0.45      0.57        76\n",
      "       10-12       0.68      0.94      0.79       158\n",
      "       13-15       0.57      0.27      0.37        44\n",
      "       20-25       0.71      0.78      0.74        63\n",
      "       30-40       0.78      0.90      0.84        69\n",
      "         4-5       0.69      0.66      0.68       101\n",
      "       41-56       1.00      0.78      0.88        23\n",
      "         6-9       0.81      0.48      0.60       153\n",
      "         60+       0.83      0.90      0.86        39\n",
      "\n",
      "    accuracy                           0.85      1591\n",
      "   macro avg       0.78      0.71      0.73      1591\n",
      "weighted avg       0.85      0.85      0.84      1591\n",
      "\n"
     ]
    }
   ],
   "source": [
    "print(\"[INFO] evaluating after fine-tuning network head...\")\n",
    "testGen.reset()\n",
    "predIdxs = model.predict_generator(testGen,\n",
    "    steps=(totalTest // BATCH_SIZE) + 1)\n",
    "predIdxsClasses = np.argmax(predIdxs, axis=1)\n",
    "print(classification_report(testGen.classes, predIdxsClasses,\n",
    "    target_names=testGen.class_indices.keys()))"
   ]
  },
  {
   "cell_type": "code",
   "execution_count": 18,
   "metadata": {},
   "outputs": [
    {
     "data": {
      "text/plain": [
       "['0', '1-3', '10-12', '13-15', '20-25', '30-40', '4-5', '41-56', '6-9', '60+']"
      ]
     },
     "execution_count": 18,
     "metadata": {},
     "output_type": "execute_result"
    }
   ],
   "source": [
    "labs = testGen.class_indices.keys()\n",
    "PFRLabels = []\n",
    "for lab in labs:\n",
    "    PFRLabels.append(lab)\n",
    "PFRLabels"
   ]
  },
  {
   "cell_type": "code",
   "execution_count": 19,
   "metadata": {},
   "outputs": [
    {
     "data": {
      "text/html": [
       "<div>\n",
       "<style scoped>\n",
       "    .dataframe tbody tr th:only-of-type {\n",
       "        vertical-align: middle;\n",
       "    }\n",
       "\n",
       "    .dataframe tbody tr th {\n",
       "        vertical-align: top;\n",
       "    }\n",
       "\n",
       "    .dataframe thead th {\n",
       "        text-align: right;\n",
       "    }\n",
       "</style>\n",
       "<table border=\"1\" class=\"dataframe\">\n",
       "  <thead>\n",
       "    <tr style=\"text-align: right;\">\n",
       "      <th></th>\n",
       "      <th>0</th>\n",
       "      <th>1-3</th>\n",
       "      <th>10-12</th>\n",
       "      <th>13-15</th>\n",
       "      <th>20-25</th>\n",
       "      <th>30-40</th>\n",
       "      <th>4-5</th>\n",
       "      <th>41-56</th>\n",
       "      <th>6-9</th>\n",
       "      <th>60+</th>\n",
       "    </tr>\n",
       "  </thead>\n",
       "  <tbody>\n",
       "    <tr>\n",
       "      <td>0</td>\n",
       "      <td>860</td>\n",
       "      <td>0</td>\n",
       "      <td>4</td>\n",
       "      <td>0</td>\n",
       "      <td>0</td>\n",
       "      <td>0</td>\n",
       "      <td>1</td>\n",
       "      <td>0</td>\n",
       "      <td>0</td>\n",
       "      <td>0</td>\n",
       "    </tr>\n",
       "    <tr>\n",
       "      <td>1-3</td>\n",
       "      <td>20</td>\n",
       "      <td>34</td>\n",
       "      <td>13</td>\n",
       "      <td>0</td>\n",
       "      <td>0</td>\n",
       "      <td>0</td>\n",
       "      <td>1</td>\n",
       "      <td>0</td>\n",
       "      <td>7</td>\n",
       "      <td>1</td>\n",
       "    </tr>\n",
       "    <tr>\n",
       "      <td>10-12</td>\n",
       "      <td>0</td>\n",
       "      <td>1</td>\n",
       "      <td>148</td>\n",
       "      <td>3</td>\n",
       "      <td>4</td>\n",
       "      <td>0</td>\n",
       "      <td>0</td>\n",
       "      <td>0</td>\n",
       "      <td>2</td>\n",
       "      <td>0</td>\n",
       "    </tr>\n",
       "    <tr>\n",
       "      <td>13-15</td>\n",
       "      <td>2</td>\n",
       "      <td>0</td>\n",
       "      <td>19</td>\n",
       "      <td>12</td>\n",
       "      <td>7</td>\n",
       "      <td>2</td>\n",
       "      <td>1</td>\n",
       "      <td>0</td>\n",
       "      <td>1</td>\n",
       "      <td>0</td>\n",
       "    </tr>\n",
       "    <tr>\n",
       "      <td>20-25</td>\n",
       "      <td>3</td>\n",
       "      <td>0</td>\n",
       "      <td>2</td>\n",
       "      <td>3</td>\n",
       "      <td>49</td>\n",
       "      <td>5</td>\n",
       "      <td>0</td>\n",
       "      <td>0</td>\n",
       "      <td>1</td>\n",
       "      <td>0</td>\n",
       "    </tr>\n",
       "    <tr>\n",
       "      <td>30-40</td>\n",
       "      <td>0</td>\n",
       "      <td>0</td>\n",
       "      <td>0</td>\n",
       "      <td>0</td>\n",
       "      <td>3</td>\n",
       "      <td>62</td>\n",
       "      <td>0</td>\n",
       "      <td>0</td>\n",
       "      <td>0</td>\n",
       "      <td>4</td>\n",
       "    </tr>\n",
       "    <tr>\n",
       "      <td>4-5</td>\n",
       "      <td>17</td>\n",
       "      <td>6</td>\n",
       "      <td>4</td>\n",
       "      <td>0</td>\n",
       "      <td>0</td>\n",
       "      <td>0</td>\n",
       "      <td>67</td>\n",
       "      <td>0</td>\n",
       "      <td>6</td>\n",
       "      <td>1</td>\n",
       "    </tr>\n",
       "    <tr>\n",
       "      <td>41-56</td>\n",
       "      <td>0</td>\n",
       "      <td>0</td>\n",
       "      <td>0</td>\n",
       "      <td>0</td>\n",
       "      <td>0</td>\n",
       "      <td>5</td>\n",
       "      <td>0</td>\n",
       "      <td>18</td>\n",
       "      <td>0</td>\n",
       "      <td>0</td>\n",
       "    </tr>\n",
       "    <tr>\n",
       "      <td>6-9</td>\n",
       "      <td>11</td>\n",
       "      <td>2</td>\n",
       "      <td>29</td>\n",
       "      <td>3</td>\n",
       "      <td>5</td>\n",
       "      <td>2</td>\n",
       "      <td>27</td>\n",
       "      <td>0</td>\n",
       "      <td>73</td>\n",
       "      <td>1</td>\n",
       "    </tr>\n",
       "    <tr>\n",
       "      <td>60+</td>\n",
       "      <td>0</td>\n",
       "      <td>0</td>\n",
       "      <td>0</td>\n",
       "      <td>0</td>\n",
       "      <td>1</td>\n",
       "      <td>3</td>\n",
       "      <td>0</td>\n",
       "      <td>0</td>\n",
       "      <td>0</td>\n",
       "      <td>35</td>\n",
       "    </tr>\n",
       "  </tbody>\n",
       "</table>\n",
       "</div>"
      ],
      "text/plain": [
       "         0  1-3  10-12  13-15  20-25  30-40  4-5  41-56  6-9  60+\n",
       "0      860    0      4      0      0      0    1      0    0    0\n",
       "1-3     20   34     13      0      0      0    1      0    7    1\n",
       "10-12    0    1    148      3      4      0    0      0    2    0\n",
       "13-15    2    0     19     12      7      2    1      0    1    0\n",
       "20-25    3    0      2      3     49      5    0      0    1    0\n",
       "30-40    0    0      0      0      3     62    0      0    0    4\n",
       "4-5     17    6      4      0      0      0   67      0    6    1\n",
       "41-56    0    0      0      0      0      5    0     18    0    0\n",
       "6-9     11    2     29      3      5      2   27      0   73    1\n",
       "60+      0    0      0      0      1      3    0      0    0   35"
      ]
     },
     "execution_count": 19,
     "metadata": {},
     "output_type": "execute_result"
    }
   ],
   "source": [
    "cm = confusion_matrix(testGen.classes, predIdxsClasses)\n",
    "cm = pd.DataFrame(cm)\n",
    "cm.columns = PFRLabels\n",
    "cm.index = PFRLabels\n",
    "cm"
   ]
  },
  {
   "cell_type": "code",
   "execution_count": null,
   "metadata": {},
   "outputs": [],
   "source": []
  },
  {
   "cell_type": "code",
   "execution_count": null,
   "metadata": {},
   "outputs": [],
   "source": [
    "WARMUP_PLOT_PATH = '../Models/PFRModel/train.png'\n",
    "plot_training(H, EPOCHS, WARMUP_PLOT_PATH)"
   ]
  },
  {
   "cell_type": "code",
   "execution_count": null,
   "metadata": {},
   "outputs": [],
   "source": [
    "pickle.dump(model, open('../Models/PFRModel/PFRModel.sav', 'wb'))"
   ]
  },
  {
   "cell_type": "code",
   "execution_count": null,
   "metadata": {},
   "outputs": [],
   "source": []
  }
 ],
 "metadata": {
  "kernelspec": {
   "display_name": "Python 3",
   "language": "python",
   "name": "python3"
  },
  "language_info": {
   "codemirror_mode": {
    "name": "ipython",
    "version": 3
   },
   "file_extension": ".py",
   "mimetype": "text/x-python",
   "name": "python",
   "nbconvert_exporter": "python",
   "pygments_lexer": "ipython3",
   "version": "3.7.4"
  }
 },
 "nbformat": 4,
 "nbformat_minor": 2
}
